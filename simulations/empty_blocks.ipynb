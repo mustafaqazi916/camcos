{
 "cells": [
  {
   "cell_type": "code",
   "execution_count": 1,
   "metadata": {},
   "outputs": [],
   "source": [
    "import numpy as np\n",
    "import pandas as pd\n",
    "import seaborn as sns\n",
    "import scipy.stats as st\n",
    "import datetime\n",
    "\n",
    "from matplotlib import pyplot as plt"
   ]
  },
  {
   "cell_type": "markdown",
   "metadata": {},
   "source": [
    "# Preprocessing Pre and Post EIP-1559"
   ]
  },
  {
   "cell_type": "code",
   "execution_count": 2,
   "metadata": {},
   "outputs": [],
   "source": [
    "df_blocks_post = pd.read_csv('blocks_post.csv')"
   ]
  },
  {
   "cell_type": "code",
   "execution_count": 3,
   "metadata": {},
   "outputs": [],
   "source": [
    "df_blocks_pre = pd.read_csv('reg_pre_eip_data.csv')"
   ]
  },
  {
   "cell_type": "markdown",
   "metadata": {},
   "source": [
    "### Post EIP-1559 Data"
   ]
  },
  {
   "cell_type": "code",
   "execution_count": 4,
   "metadata": {},
   "outputs": [],
   "source": [
    "df_blocks_post = df_blocks_post.sort_values('number')"
   ]
  },
  {
   "cell_type": "code",
   "execution_count": 5,
   "metadata": {},
   "outputs": [
    {
     "data": {
      "text/html": [
       "<div>\n",
       "<style scoped>\n",
       "    .dataframe tbody tr th:only-of-type {\n",
       "        vertical-align: middle;\n",
       "    }\n",
       "\n",
       "    .dataframe tbody tr th {\n",
       "        vertical-align: top;\n",
       "    }\n",
       "\n",
       "    .dataframe thead th {\n",
       "        text-align: right;\n",
       "    }\n",
       "</style>\n",
       "<table border=\"1\" class=\"dataframe\">\n",
       "  <thead>\n",
       "    <tr style=\"text-align: right;\">\n",
       "      <th></th>\n",
       "      <th>number</th>\n",
       "      <th>hash</th>\n",
       "      <th>parent_hash</th>\n",
       "      <th>nonce</th>\n",
       "      <th>sha3_uncles</th>\n",
       "      <th>logs_bloom</th>\n",
       "      <th>transactions_root</th>\n",
       "      <th>state_root</th>\n",
       "      <th>receipts_root</th>\n",
       "      <th>miner</th>\n",
       "      <th>difficulty</th>\n",
       "      <th>total_difficulty</th>\n",
       "      <th>size</th>\n",
       "      <th>extra_data</th>\n",
       "      <th>gas_limit</th>\n",
       "      <th>gas_used</th>\n",
       "      <th>timestamp</th>\n",
       "      <th>transaction_count</th>\n",
       "      <th>base_fee_per_gas</th>\n",
       "    </tr>\n",
       "  </thead>\n",
       "  <tbody>\n",
       "    <tr>\n",
       "      <th>4</th>\n",
       "      <td>12965000</td>\n",
       "      <td>0x9b83c12c69edb74f6c8dd5d052765c1adf940e320bd1...</td>\n",
       "      <td>0x3de6bb3849a138e6ab0b83a3a00dc7433f1e83f7fd48...</td>\n",
       "      <td>0xb223da049adf2216</td>\n",
       "      <td>0x1dcc4de8dec75d7aab85b567b6ccd41ad312451b948a...</td>\n",
       "      <td>0x24e74ad77d9a2b27bdb8f6d6f7f1cffdd8cfb47fdebd...</td>\n",
       "      <td>0xdfcb68d3a3c41096f4a77569db7956e0a0e750fad185...</td>\n",
       "      <td>0x41cf6e8e60fd087d2b00360dc29e5bfb21959bce1f4c...</td>\n",
       "      <td>0x8a8865cd785e2e9dfce7da83aca010b10b9af2abbd36...</td>\n",
       "      <td>0x7777788200b672a42421017f65ede4fc759564c8</td>\n",
       "      <td>7742494561645080</td>\n",
       "      <td>28494409340649014490153</td>\n",
       "      <td>137049</td>\n",
       "      <td>0x68747470733a2f2f7777772e6b7279707465782e6f7267</td>\n",
       "      <td>30029122</td>\n",
       "      <td>30025257</td>\n",
       "      <td>1628166822</td>\n",
       "      <td>259</td>\n",
       "      <td>1000000000</td>\n",
       "    </tr>\n",
       "    <tr>\n",
       "      <th>6</th>\n",
       "      <td>12965001</td>\n",
       "      <td>0xa32d159805750cbe428b799a49b85dcb2300f61d8067...</td>\n",
       "      <td>0x9b83c12c69edb74f6c8dd5d052765c1adf940e320bd1...</td>\n",
       "      <td>0x0956e895d988798e</td>\n",
       "      <td>0x1dcc4de8dec75d7aab85b567b6ccd41ad312451b948a...</td>\n",
       "      <td>0x74adf8cfdd0a1ddf12f3d6d5bbd79cab73a19b6986fc...</td>\n",
       "      <td>0x03c97f958cc4db3cc60def5ce1e83aaf1490837f5f57...</td>\n",
       "      <td>0x0180d59eb0855ef6dbca806fbe81491bea252ab2e0d3...</td>\n",
       "      <td>0x2335850563dbf51f65a37508f2fdd9da1780f70cfa46...</td>\n",
       "      <td>0x829bd824b016326a401d083b33d092293333a830</td>\n",
       "      <td>7742495635386904</td>\n",
       "      <td>28494417083144649877057</td>\n",
       "      <td>158678</td>\n",
       "      <td>0xe4b883e5bda9e7a59ee4bb99e9b1bc030521</td>\n",
       "      <td>29999798</td>\n",
       "      <td>29985144</td>\n",
       "      <td>1628166835</td>\n",
       "      <td>257</td>\n",
       "      <td>1124967822</td>\n",
       "    </tr>\n",
       "    <tr>\n",
       "      <th>8</th>\n",
       "      <td>12965002</td>\n",
       "      <td>0xfcb92039b16c0075d4c6c57cb55ba8c661914325bb76...</td>\n",
       "      <td>0xa32d159805750cbe428b799a49b85dcb2300f61d8067...</td>\n",
       "      <td>0x53b623b975c42d06</td>\n",
       "      <td>0x1dcc4de8dec75d7aab85b567b6ccd41ad312451b948a...</td>\n",
       "      <td>0x67bd1d7f3c5a2b5d15bcb4ef8b95feafbfdadad8fcec...</td>\n",
       "      <td>0x2d062a3463427b8297819abc1a344fc72412aba542f6...</td>\n",
       "      <td>0x4417fa3fa0483322e9b19d2a2659c8e0a7e7fd2cb68d...</td>\n",
       "      <td>0xe9444c1d62f922849f2e00fb71cf1aeea2c3410c017f...</td>\n",
       "      <td>0x01ca8a0ba4a80d12a8fb6e3655688f57b16608cf</td>\n",
       "      <td>7738716193681762</td>\n",
       "      <td>28494424821860843558819</td>\n",
       "      <td>96685</td>\n",
       "      <td>0x706f6f6c2e62696e616e63652e636f6d</td>\n",
       "      <td>29970503</td>\n",
       "      <td>29950343</td>\n",
       "      <td>1628166854</td>\n",
       "      <td>321</td>\n",
       "      <td>1265451421</td>\n",
       "    </tr>\n",
       "    <tr>\n",
       "      <th>14</th>\n",
       "      <td>12965003</td>\n",
       "      <td>0x6fc26021db56beee14e3d3e303344ecfbc5d84f7147e...</td>\n",
       "      <td>0xfcb92039b16c0075d4c6c57cb55ba8c661914325bb76...</td>\n",
       "      <td>0x0cfc576bf3f9fecf</td>\n",
       "      <td>0x1dcc4de8dec75d7aab85b567b6ccd41ad312451b948a...</td>\n",
       "      <td>0xd1b9d8f2e52039ff38cf2019a73fb5a5489ad00c4f63...</td>\n",
       "      <td>0x4b021915bde15eb80ee59d7d8eacc77d8ea8d4e519c2...</td>\n",
       "      <td>0x38fcc7de63814f9d792b85a264728c8bdb1216df8e3f...</td>\n",
       "      <td>0x668a8eb055326ef08d75bd21a5eb971705fd8bc53c1f...</td>\n",
       "      <td>0x5a0b54d5dc17e0aadc383d2db43b0a0d3e029c4c</td>\n",
       "      <td>7742495937440032</td>\n",
       "      <td>28494432564356780998851</td>\n",
       "      <td>86936</td>\n",
       "      <td>0xd883010a06846765746888676f312e31362e36856c69...</td>\n",
       "      <td>29941236</td>\n",
       "      <td>29933895</td>\n",
       "      <td>1628166857</td>\n",
       "      <td>265</td>\n",
       "      <td>1423420054</td>\n",
       "    </tr>\n",
       "    <tr>\n",
       "      <th>15</th>\n",
       "      <td>12965004</td>\n",
       "      <td>0xf615c1d20904f1be47dff7068b625a91f52d02691b38...</td>\n",
       "      <td>0x6fc26021db56beee14e3d3e303344ecfbc5d84f7147e...</td>\n",
       "      <td>0x0a1b8a8269c0b7a0</td>\n",
       "      <td>0x1dcc4de8dec75d7aab85b567b6ccd41ad312451b948a...</td>\n",
       "      <td>0x6ebd70ceb9dc7a7fd9d6badadfbbf1b5b10e0b27bec1...</td>\n",
       "      <td>0x2313a01ce3db52819c79b040e303aee510e1307e9995...</td>\n",
       "      <td>0x796c30e13732484b3d96bb79f4aae9192191d9896ad7...</td>\n",
       "      <td>0x4d6f34d8907a9b802a7565f46078c264e81499233591...</td>\n",
       "      <td>0x829bd824b016326a401d083b33d092293333a830</td>\n",
       "      <td>7742497011181856</td>\n",
       "      <td>28494440306853792180707</td>\n",
       "      <td>89206</td>\n",
       "      <td>0xe4b883e5bda9e7a59ee4bb99e9b1bc030621</td>\n",
       "      <td>29911998</td>\n",
       "      <td>29895283</td>\n",
       "      <td>1628166868</td>\n",
       "      <td>280</td>\n",
       "      <td>1601260312</td>\n",
       "    </tr>\n",
       "    <tr>\n",
       "      <th>...</th>\n",
       "      <td>...</td>\n",
       "      <td>...</td>\n",
       "      <td>...</td>\n",
       "      <td>...</td>\n",
       "      <td>...</td>\n",
       "      <td>...</td>\n",
       "      <td>...</td>\n",
       "      <td>...</td>\n",
       "      <td>...</td>\n",
       "      <td>...</td>\n",
       "      <td>...</td>\n",
       "      <td>...</td>\n",
       "      <td>...</td>\n",
       "      <td>...</td>\n",
       "      <td>...</td>\n",
       "      <td>...</td>\n",
       "      <td>...</td>\n",
       "      <td>...</td>\n",
       "      <td>...</td>\n",
       "    </tr>\n",
       "    <tr>\n",
       "      <th>328688</th>\n",
       "      <td>13293688</td>\n",
       "      <td>0x4c459bfc1a4915153fdd4a486623bfa3829c958c9ec7...</td>\n",
       "      <td>0xb475e3ef384b3633a5b6a1e3e6b10ff6de88b40459fb...</td>\n",
       "      <td>0x97966b23d046675f</td>\n",
       "      <td>0x1dcc4de8dec75d7aab85b567b6ccd41ad312451b948a...</td>\n",
       "      <td>0x57a5624b7c0a60f5b1e93646e79917f780f2f334aab7...</td>\n",
       "      <td>0x9ed7eac4c22295c68fdfea1dd0d3b11224904124e1cc...</td>\n",
       "      <td>0xb72909ada7320718b4fc6b57c12057231095a6f80feb...</td>\n",
       "      <td>0x32abf9acd295a90d28e4e96b9c9a85fa70d0ac1dc70e...</td>\n",
       "      <td>0x99c85bb64564d9ef9a99621301f22c9993cb89e3</td>\n",
       "      <td>9118740120439526</td>\n",
       "      <td>31247354326833924782370</td>\n",
       "      <td>76965</td>\n",
       "      <td>0x626565706f6f6c2e6f72675f363009</td>\n",
       "      <td>30029295</td>\n",
       "      <td>21183631</td>\n",
       "      <td>1632556128</td>\n",
       "      <td>216</td>\n",
       "      <td>33868610851</td>\n",
       "    </tr>\n",
       "    <tr>\n",
       "      <th>328689</th>\n",
       "      <td>13293689</td>\n",
       "      <td>0x1845ac9cfc1699e776a8d380a562a9504de1c238cb1f...</td>\n",
       "      <td>0x4c459bfc1a4915153fdd4a486623bfa3829c958c9ec7...</td>\n",
       "      <td>0xdc37b6bd8f4cc41c</td>\n",
       "      <td>0x1dcc4de8dec75d7aab85b567b6ccd41ad312451b948a...</td>\n",
       "      <td>0x47309b4e20a3848595e72691a7389a22100a10600000...</td>\n",
       "      <td>0x0dce51843d78c10791d41796a57f336e57cae855af78...</td>\n",
       "      <td>0xc995ca69ad8f43c2ca067a9a98f8364084878bb3c4a7...</td>\n",
       "      <td>0x91f41cd314ce8634ce138417b99833fe81487270ef8b...</td>\n",
       "      <td>0x1ad91ee08f21be3de0ba2ba6918e714da6b45836</td>\n",
       "      <td>9118748710374118</td>\n",
       "      <td>31247363445582635156488</td>\n",
       "      <td>152892</td>\n",
       "      <td>0x486976656f6e2072752d68656176792d32</td>\n",
       "      <td>30000000</td>\n",
       "      <td>29998089</td>\n",
       "      <td>1632556140</td>\n",
       "      <td>1136</td>\n",
       "      <td>35608036680</td>\n",
       "    </tr>\n",
       "    <tr>\n",
       "      <th>328690</th>\n",
       "      <td>13293690</td>\n",
       "      <td>0x8d67162fef9b35c8234866c1b4973c42f55f2f8db095...</td>\n",
       "      <td>0x1845ac9cfc1699e776a8d380a562a9504de1c238cb1f...</td>\n",
       "      <td>0x6d850eba2787a95e</td>\n",
       "      <td>0x1dcc4de8dec75d7aab85b567b6ccd41ad312451b948a...</td>\n",
       "      <td>0x00800000000200000000000002000000000000000800...</td>\n",
       "      <td>0x2aa9ff93b48c7a4b5e5993d6dd471452327579d623da...</td>\n",
       "      <td>0xa82808ae775556644416319a72e2e05bf66db2cf1866...</td>\n",
       "      <td>0xa55819e8c19037b6a6d538472ed6af4b9ec6b81ff815...</td>\n",
       "      <td>0x5a0b54d5dc17e0aadc383d2db43b0a0d3e029c4c</td>\n",
       "      <td>9114304786289973</td>\n",
       "      <td>31247372559887421446461</td>\n",
       "      <td>175975</td>\n",
       "      <td>0xd883010a08846765746888676f312e31362e38856c69...</td>\n",
       "      <td>30000000</td>\n",
       "      <td>29988724</td>\n",
       "      <td>1632556166</td>\n",
       "      <td>1410</td>\n",
       "      <td>40058474207</td>\n",
       "    </tr>\n",
       "    <tr>\n",
       "      <th>328691</th>\n",
       "      <td>13293691</td>\n",
       "      <td>0x137c01747dd9675899f0f58558f8a4d7f8f21fc7b453...</td>\n",
       "      <td>0x8d67162fef9b35c8234866c1b4973c42f55f2f8db095...</td>\n",
       "      <td>0xc3758c5b3004a62a</td>\n",
       "      <td>0x1dcc4de8dec75d7aab85b567b6ccd41ad312451b948a...</td>\n",
       "      <td>0x2a680f0e4366780ff0c5aaa688963f01c3923c0a0208...</td>\n",
       "      <td>0x0a0c69985cebfccadae89f942da9d7e650d0b2dedd31...</td>\n",
       "      <td>0xd0a959fc3ac7162debfcdff04459c990aa7ccd4698ee...</td>\n",
       "      <td>0xf978bd8c209aa11ab4245b2d6391b22ea99f7a6dc0ce...</td>\n",
       "      <td>0xe206e3dca498258f1b7eec1c640b5aee7bb88fd0</td>\n",
       "      <td>9118763720358495</td>\n",
       "      <td>31247381678651141804956</td>\n",
       "      <td>157068</td>\n",
       "      <td>0xd883010a08846765746888676f312e31362e38856c69...</td>\n",
       "      <td>30000000</td>\n",
       "      <td>29978866</td>\n",
       "      <td>1632556174</td>\n",
       "      <td>743</td>\n",
       "      <td>45062019321</td>\n",
       "    </tr>\n",
       "    <tr>\n",
       "      <th>328692</th>\n",
       "      <td>13293692</td>\n",
       "      <td>0x3132572ded9c981bd0ea2de10e7ece8360cde5ed6a49...</td>\n",
       "      <td>0x137c01747dd9675899f0f58558f8a4d7f8f21fc7b453...</td>\n",
       "      <td>0x52d3dff1bfeb9cec</td>\n",
       "      <td>0x1dcc4de8dec75d7aab85b567b6ccd41ad312451b948a...</td>\n",
       "      <td>0x00000000000000000000000000000000000000000000...</td>\n",
       "      <td>0x56e81f171bcc55a6ff8345e692c0f86e5b48e01b996c...</td>\n",
       "      <td>0x13aa0398e98437b1b413a74817a2b8e4ebfc221d2a9b...</td>\n",
       "      <td>0x56e81f171bcc55a6ff8345e692c0f86e5b48e01b996c...</td>\n",
       "      <td>0x5a0b54d5dc17e0aadc383d2db43b0a0d3e029c4c</td>\n",
       "      <td>9114319788945256</td>\n",
       "      <td>31247390792970930750212</td>\n",
       "      <td>550</td>\n",
       "      <td>0xd883010a08846765746888676f312e31362e38856c69...</td>\n",
       "      <td>30000000</td>\n",
       "      <td>0</td>\n",
       "      <td>1632556196</td>\n",
       "      <td>0</td>\n",
       "      <td>50686835563</td>\n",
       "    </tr>\n",
       "  </tbody>\n",
       "</table>\n",
       "<p>328693 rows × 19 columns</p>\n",
       "</div>"
      ],
      "text/plain": [
       "          number                                               hash  \\\n",
       "4       12965000  0x9b83c12c69edb74f6c8dd5d052765c1adf940e320bd1...   \n",
       "6       12965001  0xa32d159805750cbe428b799a49b85dcb2300f61d8067...   \n",
       "8       12965002  0xfcb92039b16c0075d4c6c57cb55ba8c661914325bb76...   \n",
       "14      12965003  0x6fc26021db56beee14e3d3e303344ecfbc5d84f7147e...   \n",
       "15      12965004  0xf615c1d20904f1be47dff7068b625a91f52d02691b38...   \n",
       "...          ...                                                ...   \n",
       "328688  13293688  0x4c459bfc1a4915153fdd4a486623bfa3829c958c9ec7...   \n",
       "328689  13293689  0x1845ac9cfc1699e776a8d380a562a9504de1c238cb1f...   \n",
       "328690  13293690  0x8d67162fef9b35c8234866c1b4973c42f55f2f8db095...   \n",
       "328691  13293691  0x137c01747dd9675899f0f58558f8a4d7f8f21fc7b453...   \n",
       "328692  13293692  0x3132572ded9c981bd0ea2de10e7ece8360cde5ed6a49...   \n",
       "\n",
       "                                              parent_hash               nonce  \\\n",
       "4       0x3de6bb3849a138e6ab0b83a3a00dc7433f1e83f7fd48...  0xb223da049adf2216   \n",
       "6       0x9b83c12c69edb74f6c8dd5d052765c1adf940e320bd1...  0x0956e895d988798e   \n",
       "8       0xa32d159805750cbe428b799a49b85dcb2300f61d8067...  0x53b623b975c42d06   \n",
       "14      0xfcb92039b16c0075d4c6c57cb55ba8c661914325bb76...  0x0cfc576bf3f9fecf   \n",
       "15      0x6fc26021db56beee14e3d3e303344ecfbc5d84f7147e...  0x0a1b8a8269c0b7a0   \n",
       "...                                                   ...                 ...   \n",
       "328688  0xb475e3ef384b3633a5b6a1e3e6b10ff6de88b40459fb...  0x97966b23d046675f   \n",
       "328689  0x4c459bfc1a4915153fdd4a486623bfa3829c958c9ec7...  0xdc37b6bd8f4cc41c   \n",
       "328690  0x1845ac9cfc1699e776a8d380a562a9504de1c238cb1f...  0x6d850eba2787a95e   \n",
       "328691  0x8d67162fef9b35c8234866c1b4973c42f55f2f8db095...  0xc3758c5b3004a62a   \n",
       "328692  0x137c01747dd9675899f0f58558f8a4d7f8f21fc7b453...  0x52d3dff1bfeb9cec   \n",
       "\n",
       "                                              sha3_uncles  \\\n",
       "4       0x1dcc4de8dec75d7aab85b567b6ccd41ad312451b948a...   \n",
       "6       0x1dcc4de8dec75d7aab85b567b6ccd41ad312451b948a...   \n",
       "8       0x1dcc4de8dec75d7aab85b567b6ccd41ad312451b948a...   \n",
       "14      0x1dcc4de8dec75d7aab85b567b6ccd41ad312451b948a...   \n",
       "15      0x1dcc4de8dec75d7aab85b567b6ccd41ad312451b948a...   \n",
       "...                                                   ...   \n",
       "328688  0x1dcc4de8dec75d7aab85b567b6ccd41ad312451b948a...   \n",
       "328689  0x1dcc4de8dec75d7aab85b567b6ccd41ad312451b948a...   \n",
       "328690  0x1dcc4de8dec75d7aab85b567b6ccd41ad312451b948a...   \n",
       "328691  0x1dcc4de8dec75d7aab85b567b6ccd41ad312451b948a...   \n",
       "328692  0x1dcc4de8dec75d7aab85b567b6ccd41ad312451b948a...   \n",
       "\n",
       "                                               logs_bloom  \\\n",
       "4       0x24e74ad77d9a2b27bdb8f6d6f7f1cffdd8cfb47fdebd...   \n",
       "6       0x74adf8cfdd0a1ddf12f3d6d5bbd79cab73a19b6986fc...   \n",
       "8       0x67bd1d7f3c5a2b5d15bcb4ef8b95feafbfdadad8fcec...   \n",
       "14      0xd1b9d8f2e52039ff38cf2019a73fb5a5489ad00c4f63...   \n",
       "15      0x6ebd70ceb9dc7a7fd9d6badadfbbf1b5b10e0b27bec1...   \n",
       "...                                                   ...   \n",
       "328688  0x57a5624b7c0a60f5b1e93646e79917f780f2f334aab7...   \n",
       "328689  0x47309b4e20a3848595e72691a7389a22100a10600000...   \n",
       "328690  0x00800000000200000000000002000000000000000800...   \n",
       "328691  0x2a680f0e4366780ff0c5aaa688963f01c3923c0a0208...   \n",
       "328692  0x00000000000000000000000000000000000000000000...   \n",
       "\n",
       "                                        transactions_root  \\\n",
       "4       0xdfcb68d3a3c41096f4a77569db7956e0a0e750fad185...   \n",
       "6       0x03c97f958cc4db3cc60def5ce1e83aaf1490837f5f57...   \n",
       "8       0x2d062a3463427b8297819abc1a344fc72412aba542f6...   \n",
       "14      0x4b021915bde15eb80ee59d7d8eacc77d8ea8d4e519c2...   \n",
       "15      0x2313a01ce3db52819c79b040e303aee510e1307e9995...   \n",
       "...                                                   ...   \n",
       "328688  0x9ed7eac4c22295c68fdfea1dd0d3b11224904124e1cc...   \n",
       "328689  0x0dce51843d78c10791d41796a57f336e57cae855af78...   \n",
       "328690  0x2aa9ff93b48c7a4b5e5993d6dd471452327579d623da...   \n",
       "328691  0x0a0c69985cebfccadae89f942da9d7e650d0b2dedd31...   \n",
       "328692  0x56e81f171bcc55a6ff8345e692c0f86e5b48e01b996c...   \n",
       "\n",
       "                                               state_root  \\\n",
       "4       0x41cf6e8e60fd087d2b00360dc29e5bfb21959bce1f4c...   \n",
       "6       0x0180d59eb0855ef6dbca806fbe81491bea252ab2e0d3...   \n",
       "8       0x4417fa3fa0483322e9b19d2a2659c8e0a7e7fd2cb68d...   \n",
       "14      0x38fcc7de63814f9d792b85a264728c8bdb1216df8e3f...   \n",
       "15      0x796c30e13732484b3d96bb79f4aae9192191d9896ad7...   \n",
       "...                                                   ...   \n",
       "328688  0xb72909ada7320718b4fc6b57c12057231095a6f80feb...   \n",
       "328689  0xc995ca69ad8f43c2ca067a9a98f8364084878bb3c4a7...   \n",
       "328690  0xa82808ae775556644416319a72e2e05bf66db2cf1866...   \n",
       "328691  0xd0a959fc3ac7162debfcdff04459c990aa7ccd4698ee...   \n",
       "328692  0x13aa0398e98437b1b413a74817a2b8e4ebfc221d2a9b...   \n",
       "\n",
       "                                            receipts_root  \\\n",
       "4       0x8a8865cd785e2e9dfce7da83aca010b10b9af2abbd36...   \n",
       "6       0x2335850563dbf51f65a37508f2fdd9da1780f70cfa46...   \n",
       "8       0xe9444c1d62f922849f2e00fb71cf1aeea2c3410c017f...   \n",
       "14      0x668a8eb055326ef08d75bd21a5eb971705fd8bc53c1f...   \n",
       "15      0x4d6f34d8907a9b802a7565f46078c264e81499233591...   \n",
       "...                                                   ...   \n",
       "328688  0x32abf9acd295a90d28e4e96b9c9a85fa70d0ac1dc70e...   \n",
       "328689  0x91f41cd314ce8634ce138417b99833fe81487270ef8b...   \n",
       "328690  0xa55819e8c19037b6a6d538472ed6af4b9ec6b81ff815...   \n",
       "328691  0xf978bd8c209aa11ab4245b2d6391b22ea99f7a6dc0ce...   \n",
       "328692  0x56e81f171bcc55a6ff8345e692c0f86e5b48e01b996c...   \n",
       "\n",
       "                                             miner        difficulty  \\\n",
       "4       0x7777788200b672a42421017f65ede4fc759564c8  7742494561645080   \n",
       "6       0x829bd824b016326a401d083b33d092293333a830  7742495635386904   \n",
       "8       0x01ca8a0ba4a80d12a8fb6e3655688f57b16608cf  7738716193681762   \n",
       "14      0x5a0b54d5dc17e0aadc383d2db43b0a0d3e029c4c  7742495937440032   \n",
       "15      0x829bd824b016326a401d083b33d092293333a830  7742497011181856   \n",
       "...                                            ...               ...   \n",
       "328688  0x99c85bb64564d9ef9a99621301f22c9993cb89e3  9118740120439526   \n",
       "328689  0x1ad91ee08f21be3de0ba2ba6918e714da6b45836  9118748710374118   \n",
       "328690  0x5a0b54d5dc17e0aadc383d2db43b0a0d3e029c4c  9114304786289973   \n",
       "328691  0xe206e3dca498258f1b7eec1c640b5aee7bb88fd0  9118763720358495   \n",
       "328692  0x5a0b54d5dc17e0aadc383d2db43b0a0d3e029c4c  9114319788945256   \n",
       "\n",
       "               total_difficulty    size  \\\n",
       "4       28494409340649014490153  137049   \n",
       "6       28494417083144649877057  158678   \n",
       "8       28494424821860843558819   96685   \n",
       "14      28494432564356780998851   86936   \n",
       "15      28494440306853792180707   89206   \n",
       "...                         ...     ...   \n",
       "328688  31247354326833924782370   76965   \n",
       "328689  31247363445582635156488  152892   \n",
       "328690  31247372559887421446461  175975   \n",
       "328691  31247381678651141804956  157068   \n",
       "328692  31247390792970930750212     550   \n",
       "\n",
       "                                               extra_data  gas_limit  \\\n",
       "4        0x68747470733a2f2f7777772e6b7279707465782e6f7267   30029122   \n",
       "6                  0xe4b883e5bda9e7a59ee4bb99e9b1bc030521   29999798   \n",
       "8                      0x706f6f6c2e62696e616e63652e636f6d   29970503   \n",
       "14      0xd883010a06846765746888676f312e31362e36856c69...   29941236   \n",
       "15                 0xe4b883e5bda9e7a59ee4bb99e9b1bc030621   29911998   \n",
       "...                                                   ...        ...   \n",
       "328688                   0x626565706f6f6c2e6f72675f363009   30029295   \n",
       "328689               0x486976656f6e2072752d68656176792d32   30000000   \n",
       "328690  0xd883010a08846765746888676f312e31362e38856c69...   30000000   \n",
       "328691  0xd883010a08846765746888676f312e31362e38856c69...   30000000   \n",
       "328692  0xd883010a08846765746888676f312e31362e38856c69...   30000000   \n",
       "\n",
       "        gas_used   timestamp  transaction_count  base_fee_per_gas  \n",
       "4       30025257  1628166822                259        1000000000  \n",
       "6       29985144  1628166835                257        1124967822  \n",
       "8       29950343  1628166854                321        1265451421  \n",
       "14      29933895  1628166857                265        1423420054  \n",
       "15      29895283  1628166868                280        1601260312  \n",
       "...          ...         ...                ...               ...  \n",
       "328688  21183631  1632556128                216       33868610851  \n",
       "328689  29998089  1632556140               1136       35608036680  \n",
       "328690  29988724  1632556166               1410       40058474207  \n",
       "328691  29978866  1632556174                743       45062019321  \n",
       "328692         0  1632556196                  0       50686835563  \n",
       "\n",
       "[328693 rows x 19 columns]"
      ]
     },
     "execution_count": 5,
     "metadata": {},
     "output_type": "execute_result"
    }
   ],
   "source": [
    "df_blocks_post"
   ]
  },
  {
   "cell_type": "code",
   "execution_count": 6,
   "metadata": {},
   "outputs": [],
   "source": [
    "df_blocks_post.drop(df_blocks_post.columns[[1,2,3,4,5,6,7,8,9,10,11,12,13]], axis = 1, inplace = True)"
   ]
  },
  {
   "cell_type": "code",
   "execution_count": 7,
   "metadata": {},
   "outputs": [],
   "source": [
    "df_blocks_post.rename(columns={'number': 'block_number'}, inplace=True)"
   ]
  },
  {
   "cell_type": "code",
   "execution_count": 8,
   "metadata": {},
   "outputs": [
    {
     "data": {
      "text/html": [
       "<div>\n",
       "<style scoped>\n",
       "    .dataframe tbody tr th:only-of-type {\n",
       "        vertical-align: middle;\n",
       "    }\n",
       "\n",
       "    .dataframe tbody tr th {\n",
       "        vertical-align: top;\n",
       "    }\n",
       "\n",
       "    .dataframe thead th {\n",
       "        text-align: right;\n",
       "    }\n",
       "</style>\n",
       "<table border=\"1\" class=\"dataframe\">\n",
       "  <thead>\n",
       "    <tr style=\"text-align: right;\">\n",
       "      <th></th>\n",
       "      <th>block_number</th>\n",
       "      <th>gas_limit</th>\n",
       "      <th>gas_used</th>\n",
       "      <th>timestamp</th>\n",
       "      <th>transaction_count</th>\n",
       "      <th>base_fee_per_gas</th>\n",
       "    </tr>\n",
       "  </thead>\n",
       "  <tbody>\n",
       "    <tr>\n",
       "      <th>4</th>\n",
       "      <td>12965000</td>\n",
       "      <td>30029122</td>\n",
       "      <td>30025257</td>\n",
       "      <td>1628166822</td>\n",
       "      <td>259</td>\n",
       "      <td>1000000000</td>\n",
       "    </tr>\n",
       "    <tr>\n",
       "      <th>6</th>\n",
       "      <td>12965001</td>\n",
       "      <td>29999798</td>\n",
       "      <td>29985144</td>\n",
       "      <td>1628166835</td>\n",
       "      <td>257</td>\n",
       "      <td>1124967822</td>\n",
       "    </tr>\n",
       "    <tr>\n",
       "      <th>8</th>\n",
       "      <td>12965002</td>\n",
       "      <td>29970503</td>\n",
       "      <td>29950343</td>\n",
       "      <td>1628166854</td>\n",
       "      <td>321</td>\n",
       "      <td>1265451421</td>\n",
       "    </tr>\n",
       "    <tr>\n",
       "      <th>14</th>\n",
       "      <td>12965003</td>\n",
       "      <td>29941236</td>\n",
       "      <td>29933895</td>\n",
       "      <td>1628166857</td>\n",
       "      <td>265</td>\n",
       "      <td>1423420054</td>\n",
       "    </tr>\n",
       "    <tr>\n",
       "      <th>15</th>\n",
       "      <td>12965004</td>\n",
       "      <td>29911998</td>\n",
       "      <td>29895283</td>\n",
       "      <td>1628166868</td>\n",
       "      <td>280</td>\n",
       "      <td>1601260312</td>\n",
       "    </tr>\n",
       "    <tr>\n",
       "      <th>...</th>\n",
       "      <td>...</td>\n",
       "      <td>...</td>\n",
       "      <td>...</td>\n",
       "      <td>...</td>\n",
       "      <td>...</td>\n",
       "      <td>...</td>\n",
       "    </tr>\n",
       "    <tr>\n",
       "      <th>328688</th>\n",
       "      <td>13293688</td>\n",
       "      <td>30029295</td>\n",
       "      <td>21183631</td>\n",
       "      <td>1632556128</td>\n",
       "      <td>216</td>\n",
       "      <td>33868610851</td>\n",
       "    </tr>\n",
       "    <tr>\n",
       "      <th>328689</th>\n",
       "      <td>13293689</td>\n",
       "      <td>30000000</td>\n",
       "      <td>29998089</td>\n",
       "      <td>1632556140</td>\n",
       "      <td>1136</td>\n",
       "      <td>35608036680</td>\n",
       "    </tr>\n",
       "    <tr>\n",
       "      <th>328690</th>\n",
       "      <td>13293690</td>\n",
       "      <td>30000000</td>\n",
       "      <td>29988724</td>\n",
       "      <td>1632556166</td>\n",
       "      <td>1410</td>\n",
       "      <td>40058474207</td>\n",
       "    </tr>\n",
       "    <tr>\n",
       "      <th>328691</th>\n",
       "      <td>13293691</td>\n",
       "      <td>30000000</td>\n",
       "      <td>29978866</td>\n",
       "      <td>1632556174</td>\n",
       "      <td>743</td>\n",
       "      <td>45062019321</td>\n",
       "    </tr>\n",
       "    <tr>\n",
       "      <th>328692</th>\n",
       "      <td>13293692</td>\n",
       "      <td>30000000</td>\n",
       "      <td>0</td>\n",
       "      <td>1632556196</td>\n",
       "      <td>0</td>\n",
       "      <td>50686835563</td>\n",
       "    </tr>\n",
       "  </tbody>\n",
       "</table>\n",
       "<p>328693 rows × 6 columns</p>\n",
       "</div>"
      ],
      "text/plain": [
       "        block_number  gas_limit  gas_used   timestamp  transaction_count  \\\n",
       "4           12965000   30029122  30025257  1628166822                259   \n",
       "6           12965001   29999798  29985144  1628166835                257   \n",
       "8           12965002   29970503  29950343  1628166854                321   \n",
       "14          12965003   29941236  29933895  1628166857                265   \n",
       "15          12965004   29911998  29895283  1628166868                280   \n",
       "...              ...        ...       ...         ...                ...   \n",
       "328688      13293688   30029295  21183631  1632556128                216   \n",
       "328689      13293689   30000000  29998089  1632556140               1136   \n",
       "328690      13293690   30000000  29988724  1632556166               1410   \n",
       "328691      13293691   30000000  29978866  1632556174                743   \n",
       "328692      13293692   30000000         0  1632556196                  0   \n",
       "\n",
       "        base_fee_per_gas  \n",
       "4             1000000000  \n",
       "6             1124967822  \n",
       "8             1265451421  \n",
       "14            1423420054  \n",
       "15            1601260312  \n",
       "...                  ...  \n",
       "328688       33868610851  \n",
       "328689       35608036680  \n",
       "328690       40058474207  \n",
       "328691       45062019321  \n",
       "328692       50686835563  \n",
       "\n",
       "[328693 rows x 6 columns]"
      ]
     },
     "execution_count": 8,
     "metadata": {},
     "output_type": "execute_result"
    }
   ],
   "source": [
    "df_blocks_post"
   ]
  },
  {
   "cell_type": "code",
   "execution_count": 9,
   "metadata": {},
   "outputs": [],
   "source": [
    "df_blocks_post.set_index(\"block_number\", inplace=True)"
   ]
  },
  {
   "cell_type": "markdown",
   "metadata": {},
   "source": [
    "Plot histogram of gas used."
   ]
  },
  {
   "cell_type": "code",
   "execution_count": 10,
   "metadata": {
    "scrolled": false
   },
   "outputs": [
    {
     "data": {
      "image/png": "[encoded data removed]",
      "text/plain": [
       "<Figure size 864x576 with 1 Axes>"
      ]
     },
     "metadata": {
      "needs_background": "light"
     },
     "output_type": "display_data"
    }
   ],
   "source": [
    "plt.figure(figsize=(12,8))\n",
    "sns.histplot(df_blocks_post.gas_used, bins=50)\n",
    "\n",
    "plt.xlabel('Gas Used')\n",
    "plt.ylabel('Frequency')\n",
    "plt.title('Histogram of Gas Used')\n",
    "\n",
    "plt.show;"
   ]
  },
  {
   "cell_type": "markdown",
   "metadata": {},
   "source": [
    "Scroll down to see a comparision of the histogram of gas used in each block before and after EIP-1559. It continues to align with Mojtaba Tefagh points in his hackmd post (https://hackmd.io/@PIncentivus/EIP-3416). Here we'll use a larger number of post EIP-1559 block data."
   ]
  },
  {
   "cell_type": "markdown",
   "metadata": {},
   "source": [
    "Plot histogram of transaction count."
   ]
  },
  {
   "cell_type": "code",
   "execution_count": 11,
   "metadata": {},
   "outputs": [
    {
     "data": {
      "text/plain": [
       "Text(0.5, 1.0, 'Histogram of transaction count')"
      ]
     },
     "execution_count": 11,
     "metadata": {},
     "output_type": "execute_result"
    },
    {
     "data": {
      "image/png": "[encoded data removed]",
      "text/plain": [
       "<Figure size 864x576 with 1 Axes>"
      ]
     },
     "metadata": {
      "needs_background": "light"
     },
     "output_type": "display_data"
    }
   ],
   "source": [
    "plt.figure(figsize=(12,8))\n",
    "sns.histplot(df_blocks_post.transaction_count, bins=120)\n",
    "\n",
    "plt.xlabel('Transaction Count')\n",
    "plt.ylabel('Frequency')\n",
    "plt.title('Histogram of transaction count')"
   ]
  },
  {
   "cell_type": "markdown",
   "metadata": {},
   "source": [
    "Pick out empty blocks and assign to a new dataframe."
   ]
  },
  {
   "cell_type": "code",
   "execution_count": 12,
   "metadata": {},
   "outputs": [],
   "source": [
    "df_empty_blocks_post = df_blocks_post[df_blocks_post['gas_used'].between(0, 0)]"
   ]
  },
  {
   "cell_type": "code",
   "execution_count": 13,
   "metadata": {},
   "outputs": [
    {
     "data": {
      "text/html": [
       "<div>\n",
       "<style scoped>\n",
       "    .dataframe tbody tr th:only-of-type {\n",
       "        vertical-align: middle;\n",
       "    }\n",
       "\n",
       "    .dataframe tbody tr th {\n",
       "        vertical-align: top;\n",
       "    }\n",
       "\n",
       "    .dataframe thead th {\n",
       "        text-align: right;\n",
       "    }\n",
       "</style>\n",
       "<table border=\"1\" class=\"dataframe\">\n",
       "  <thead>\n",
       "    <tr style=\"text-align: right;\">\n",
       "      <th></th>\n",
       "      <th>gas_limit</th>\n",
       "      <th>gas_used</th>\n",
       "      <th>timestamp</th>\n",
       "      <th>transaction_count</th>\n",
       "      <th>base_fee_per_gas</th>\n",
       "    </tr>\n",
       "    <tr>\n",
       "      <th>block_number</th>\n",
       "      <th></th>\n",
       "      <th></th>\n",
       "      <th></th>\n",
       "      <th></th>\n",
       "      <th></th>\n",
       "    </tr>\n",
       "  </thead>\n",
       "  <tbody>\n",
       "    <tr>\n",
       "      <th>12965025</th>\n",
       "      <td>29707933</td>\n",
       "      <td>0</td>\n",
       "      <td>1628167151</td>\n",
       "      <td>0</td>\n",
       "      <td>18966352132</td>\n",
       "    </tr>\n",
       "    <tr>\n",
       "      <th>12965030</th>\n",
       "      <td>29620959</td>\n",
       "      <td>0</td>\n",
       "      <td>1628167234</td>\n",
       "      <td>0</td>\n",
       "      <td>26574645197</td>\n",
       "    </tr>\n",
       "    <tr>\n",
       "      <th>12965102</th>\n",
       "      <td>29160751</td>\n",
       "      <td>0</td>\n",
       "      <td>1628168330</td>\n",
       "      <td>0</td>\n",
       "      <td>44897818302</td>\n",
       "    </tr>\n",
       "    <tr>\n",
       "      <th>12965108</th>\n",
       "      <td>28990313</td>\n",
       "      <td>0</td>\n",
       "      <td>1628168376</td>\n",
       "      <td>0</td>\n",
       "      <td>37721496602</td>\n",
       "    </tr>\n",
       "    <tr>\n",
       "      <th>12965111</th>\n",
       "      <td>29018594</td>\n",
       "      <td>0</td>\n",
       "      <td>1628168398</td>\n",
       "      <td>0</td>\n",
       "      <td>36312927336</td>\n",
       "    </tr>\n",
       "    <tr>\n",
       "      <th>...</th>\n",
       "      <td>...</td>\n",
       "      <td>...</td>\n",
       "      <td>...</td>\n",
       "      <td>...</td>\n",
       "      <td>...</td>\n",
       "    </tr>\n",
       "    <tr>\n",
       "      <th>13293321</th>\n",
       "      <td>30000000</td>\n",
       "      <td>0</td>\n",
       "      <td>1632551441</td>\n",
       "      <td>0</td>\n",
       "      <td>34067564225</td>\n",
       "    </tr>\n",
       "    <tr>\n",
       "      <th>13293580</th>\n",
       "      <td>30000000</td>\n",
       "      <td>0</td>\n",
       "      <td>1632554889</td>\n",
       "      <td>0</td>\n",
       "      <td>40351528462</td>\n",
       "    </tr>\n",
       "    <tr>\n",
       "      <th>13293671</th>\n",
       "      <td>30000000</td>\n",
       "      <td>0</td>\n",
       "      <td>1632555928</td>\n",
       "      <td>0</td>\n",
       "      <td>38747803668</td>\n",
       "    </tr>\n",
       "    <tr>\n",
       "      <th>13293681</th>\n",
       "      <td>30000000</td>\n",
       "      <td>0</td>\n",
       "      <td>1632556037</td>\n",
       "      <td>0</td>\n",
       "      <td>37010053351</td>\n",
       "    </tr>\n",
       "    <tr>\n",
       "      <th>13293692</th>\n",
       "      <td>30000000</td>\n",
       "      <td>0</td>\n",
       "      <td>1632556196</td>\n",
       "      <td>0</td>\n",
       "      <td>50686835563</td>\n",
       "    </tr>\n",
       "  </tbody>\n",
       "</table>\n",
       "<p>5214 rows × 5 columns</p>\n",
       "</div>"
      ],
      "text/plain": [
       "              gas_limit  gas_used   timestamp  transaction_count  \\\n",
       "block_number                                                       \n",
       "12965025       29707933         0  1628167151                  0   \n",
       "12965030       29620959         0  1628167234                  0   \n",
       "12965102       29160751         0  1628168330                  0   \n",
       "12965108       28990313         0  1628168376                  0   \n",
       "12965111       29018594         0  1628168398                  0   \n",
       "...                 ...       ...         ...                ...   \n",
       "13293321       30000000         0  1632551441                  0   \n",
       "13293580       30000000         0  1632554889                  0   \n",
       "13293671       30000000         0  1632555928                  0   \n",
       "13293681       30000000         0  1632556037                  0   \n",
       "13293692       30000000         0  1632556196                  0   \n",
       "\n",
       "              base_fee_per_gas  \n",
       "block_number                    \n",
       "12965025           18966352132  \n",
       "12965030           26574645197  \n",
       "12965102           44897818302  \n",
       "12965108           37721496602  \n",
       "12965111           36312927336  \n",
       "...                        ...  \n",
       "13293321           34067564225  \n",
       "13293580           40351528462  \n",
       "13293671           38747803668  \n",
       "13293681           37010053351  \n",
       "13293692           50686835563  \n",
       "\n",
       "[5214 rows x 5 columns]"
      ]
     },
     "execution_count": 13,
     "metadata": {},
     "output_type": "execute_result"
    }
   ],
   "source": [
    "df_empty_blocks_post"
   ]
  },
  {
   "cell_type": "markdown",
   "metadata": {},
   "source": [
    "Plot empty blocks via its gas used."
   ]
  },
  {
   "cell_type": "code",
   "execution_count": 14,
   "metadata": {},
   "outputs": [
    {
     "data": {
      "text/plain": [
       "Text(0.5, 1.0, 'Visualize (Post EIP-1559) Empty Blocks via its Gas Used')"
      ]
     },
     "execution_count": 14,
     "metadata": {},
     "output_type": "execute_result"
    },
    {
     "data": {
      "image/png": "[encoded data removed]",
      "text/plain": [
       "<Figure size 864x576 with 1 Axes>"
      ]
     },
     "metadata": {
      "needs_background": "light"
     },
     "output_type": "display_data"
    }
   ],
   "source": [
    "plt.figure(figsize=(12,8))\n",
    "sns.histplot(df_empty_blocks_post.gas_used, bins=120)\n",
    "\n",
    "plt.xlabel('Gas Used')\n",
    "plt.ylabel('Frequency')\n",
    "plt.title('Visualize (Post EIP-1559) Empty Blocks via its Gas Used')"
   ]
  },
  {
   "cell_type": "code",
   "execution_count": 15,
   "metadata": {},
   "outputs": [
    {
     "data": {
      "text/plain": [
       "5214"
      ]
     },
     "execution_count": 15,
     "metadata": {},
     "output_type": "execute_result"
    }
   ],
   "source": [
    "len(df_empty_blocks_post.gas_used)"
   ]
  },
  {
   "cell_type": "markdown",
   "metadata": {},
   "source": [
    "We see that there are approximately 5000 empty blocks within block 12965000 to 13293692 (total of 328,693 blocks, from Aug-05-2021 to Sep-25-2021). We'll later see that with pre EIP-1559 data, chosen from a period of Feb-07-2021 to Mar-18-2021, have a similar number of empty blocks, which is around 5000."
   ]
  },
  {
   "cell_type": "code",
   "execution_count": 16,
   "metadata": {},
   "outputs": [
    {
     "name": "stderr",
     "output_type": "stream",
     "text": [
      "<ipython-input-16-33fa7ecbc3c0>:1: SettingWithCopyWarning: \n",
      "A value is trying to be set on a copy of a slice from a DataFrame.\n",
      "Try using .loc[row_indexer,col_indexer] = value instead\n",
      "\n",
      "See the caveats in the documentation: https://pandas.pydata.org/pandas-docs/stable/user_guide/indexing.html#returning-a-view-versus-a-copy\n",
      "  df_empty_blocks_post['timestamp'] = pd.to_datetime(df_empty_blocks_post['timestamp'],unit='s')\n"
     ]
    }
   ],
   "source": [
    "df_empty_blocks_post['timestamp'] = pd.to_datetime(df_empty_blocks_post['timestamp'],unit='s')"
   ]
  },
  {
   "cell_type": "code",
   "execution_count": 17,
   "metadata": {},
   "outputs": [
    {
     "name": "stderr",
     "output_type": "stream",
     "text": [
      "<ipython-input-17-05077ac136cb>:1: SettingWithCopyWarning: \n",
      "A value is trying to be set on a copy of a slice from a DataFrame.\n",
      "Try using .loc[row_indexer,col_indexer] = value instead\n",
      "\n",
      "See the caveats in the documentation: https://pandas.pydata.org/pandas-docs/stable/user_guide/indexing.html#returning-a-view-versus-a-copy\n",
      "  df_empty_blocks_post['time'] = df_empty_blocks_post['timestamp'].dt.time\n"
     ]
    }
   ],
   "source": [
    "df_empty_blocks_post['time'] = df_empty_blocks_post['timestamp'].dt.time"
   ]
  },
  {
   "cell_type": "code",
   "execution_count": 18,
   "metadata": {},
   "outputs": [
    {
     "data": {
      "text/html": [
       "<div>\n",
       "<style scoped>\n",
       "    .dataframe tbody tr th:only-of-type {\n",
       "        vertical-align: middle;\n",
       "    }\n",
       "\n",
       "    .dataframe tbody tr th {\n",
       "        vertical-align: top;\n",
       "    }\n",
       "\n",
       "    .dataframe thead th {\n",
       "        text-align: right;\n",
       "    }\n",
       "</style>\n",
       "<table border=\"1\" class=\"dataframe\">\n",
       "  <thead>\n",
       "    <tr style=\"text-align: right;\">\n",
       "      <th></th>\n",
       "      <th>gas_limit</th>\n",
       "      <th>gas_used</th>\n",
       "      <th>timestamp</th>\n",
       "      <th>transaction_count</th>\n",
       "      <th>base_fee_per_gas</th>\n",
       "      <th>time</th>\n",
       "    </tr>\n",
       "    <tr>\n",
       "      <th>block_number</th>\n",
       "      <th></th>\n",
       "      <th></th>\n",
       "      <th></th>\n",
       "      <th></th>\n",
       "      <th></th>\n",
       "      <th></th>\n",
       "    </tr>\n",
       "  </thead>\n",
       "  <tbody>\n",
       "    <tr>\n",
       "      <th>12965025</th>\n",
       "      <td>29707933</td>\n",
       "      <td>0</td>\n",
       "      <td>2021-08-05 12:39:11</td>\n",
       "      <td>0</td>\n",
       "      <td>18966352132</td>\n",
       "      <td>12:39:11</td>\n",
       "    </tr>\n",
       "    <tr>\n",
       "      <th>12965030</th>\n",
       "      <td>29620959</td>\n",
       "      <td>0</td>\n",
       "      <td>2021-08-05 12:40:34</td>\n",
       "      <td>0</td>\n",
       "      <td>26574645197</td>\n",
       "      <td>12:40:34</td>\n",
       "    </tr>\n",
       "    <tr>\n",
       "      <th>12965102</th>\n",
       "      <td>29160751</td>\n",
       "      <td>0</td>\n",
       "      <td>2021-08-05 12:58:50</td>\n",
       "      <td>0</td>\n",
       "      <td>44897818302</td>\n",
       "      <td>12:58:50</td>\n",
       "    </tr>\n",
       "    <tr>\n",
       "      <th>12965108</th>\n",
       "      <td>28990313</td>\n",
       "      <td>0</td>\n",
       "      <td>2021-08-05 12:59:36</td>\n",
       "      <td>0</td>\n",
       "      <td>37721496602</td>\n",
       "      <td>12:59:36</td>\n",
       "    </tr>\n",
       "    <tr>\n",
       "      <th>12965111</th>\n",
       "      <td>29018594</td>\n",
       "      <td>0</td>\n",
       "      <td>2021-08-05 12:59:58</td>\n",
       "      <td>0</td>\n",
       "      <td>36312927336</td>\n",
       "      <td>12:59:58</td>\n",
       "    </tr>\n",
       "    <tr>\n",
       "      <th>...</th>\n",
       "      <td>...</td>\n",
       "      <td>...</td>\n",
       "      <td>...</td>\n",
       "      <td>...</td>\n",
       "      <td>...</td>\n",
       "      <td>...</td>\n",
       "    </tr>\n",
       "    <tr>\n",
       "      <th>13293321</th>\n",
       "      <td>30000000</td>\n",
       "      <td>0</td>\n",
       "      <td>2021-09-25 06:30:41</td>\n",
       "      <td>0</td>\n",
       "      <td>34067564225</td>\n",
       "      <td>06:30:41</td>\n",
       "    </tr>\n",
       "    <tr>\n",
       "      <th>13293580</th>\n",
       "      <td>30000000</td>\n",
       "      <td>0</td>\n",
       "      <td>2021-09-25 07:28:09</td>\n",
       "      <td>0</td>\n",
       "      <td>40351528462</td>\n",
       "      <td>07:28:09</td>\n",
       "    </tr>\n",
       "    <tr>\n",
       "      <th>13293671</th>\n",
       "      <td>30000000</td>\n",
       "      <td>0</td>\n",
       "      <td>2021-09-25 07:45:28</td>\n",
       "      <td>0</td>\n",
       "      <td>38747803668</td>\n",
       "      <td>07:45:28</td>\n",
       "    </tr>\n",
       "    <tr>\n",
       "      <th>13293681</th>\n",
       "      <td>30000000</td>\n",
       "      <td>0</td>\n",
       "      <td>2021-09-25 07:47:17</td>\n",
       "      <td>0</td>\n",
       "      <td>37010053351</td>\n",
       "      <td>07:47:17</td>\n",
       "    </tr>\n",
       "    <tr>\n",
       "      <th>13293692</th>\n",
       "      <td>30000000</td>\n",
       "      <td>0</td>\n",
       "      <td>2021-09-25 07:49:56</td>\n",
       "      <td>0</td>\n",
       "      <td>50686835563</td>\n",
       "      <td>07:49:56</td>\n",
       "    </tr>\n",
       "  </tbody>\n",
       "</table>\n",
       "<p>5214 rows × 6 columns</p>\n",
       "</div>"
      ],
      "text/plain": [
       "              gas_limit  gas_used           timestamp  transaction_count  \\\n",
       "block_number                                                               \n",
       "12965025       29707933         0 2021-08-05 12:39:11                  0   \n",
       "12965030       29620959         0 2021-08-05 12:40:34                  0   \n",
       "12965102       29160751         0 2021-08-05 12:58:50                  0   \n",
       "12965108       28990313         0 2021-08-05 12:59:36                  0   \n",
       "12965111       29018594         0 2021-08-05 12:59:58                  0   \n",
       "...                 ...       ...                 ...                ...   \n",
       "13293321       30000000         0 2021-09-25 06:30:41                  0   \n",
       "13293580       30000000         0 2021-09-25 07:28:09                  0   \n",
       "13293671       30000000         0 2021-09-25 07:45:28                  0   \n",
       "13293681       30000000         0 2021-09-25 07:47:17                  0   \n",
       "13293692       30000000         0 2021-09-25 07:49:56                  0   \n",
       "\n",
       "              base_fee_per_gas      time  \n",
       "block_number                              \n",
       "12965025           18966352132  12:39:11  \n",
       "12965030           26574645197  12:40:34  \n",
       "12965102           44897818302  12:58:50  \n",
       "12965108           37721496602  12:59:36  \n",
       "12965111           36312927336  12:59:58  \n",
       "...                        ...       ...  \n",
       "13293321           34067564225  06:30:41  \n",
       "13293580           40351528462  07:28:09  \n",
       "13293671           38747803668  07:45:28  \n",
       "13293681           37010053351  07:47:17  \n",
       "13293692           50686835563  07:49:56  \n",
       "\n",
       "[5214 rows x 6 columns]"
      ]
     },
     "execution_count": 18,
     "metadata": {},
     "output_type": "execute_result"
    }
   ],
   "source": [
    "df_empty_blocks_post"
   ]
  },
  {
   "cell_type": "code",
   "execution_count": 19,
   "metadata": {},
   "outputs": [],
   "source": [
    "# Pick out the hours within time.\n",
    "def func(x):\n",
    "    string = x[0:2]\n",
    "    return string"
   ]
  },
  {
   "cell_type": "code",
   "execution_count": 20,
   "metadata": {},
   "outputs": [
    {
     "name": "stderr",
     "output_type": "stream",
     "text": [
      "C:\\Users\\TienTran\\AppData\\Roaming\\Python\\Python38\\site-packages\\pandas\\core\\generic.py:5516: SettingWithCopyWarning: \n",
      "A value is trying to be set on a copy of a slice from a DataFrame.\n",
      "Try using .loc[row_indexer,col_indexer] = value instead\n",
      "\n",
      "See the caveats in the documentation: https://pandas.pydata.org/pandas-docs/stable/user_guide/indexing.html#returning-a-view-versus-a-copy\n",
      "  self[name] = value\n"
     ]
    }
   ],
   "source": [
    "df_empty_blocks_post.time = df_empty_blocks_post.time.astype(str).copy()"
   ]
  },
  {
   "cell_type": "code",
   "execution_count": 21,
   "metadata": {},
   "outputs": [
    {
     "data": {
      "text/plain": [
       "block_number\n",
       "12965025    12:39:11\n",
       "12965030    12:40:34\n",
       "12965102    12:58:50\n",
       "12965108    12:59:36\n",
       "12965111    12:59:58\n",
       "              ...   \n",
       "13293321    06:30:41\n",
       "13293580    07:28:09\n",
       "13293671    07:45:28\n",
       "13293681    07:47:17\n",
       "13293692    07:49:56\n",
       "Name: time, Length: 5214, dtype: object"
      ]
     },
     "execution_count": 21,
     "metadata": {},
     "output_type": "execute_result"
    }
   ],
   "source": [
    "df_empty_blocks_post.time"
   ]
  },
  {
   "cell_type": "code",
   "execution_count": 22,
   "metadata": {},
   "outputs": [
    {
     "name": "stderr",
     "output_type": "stream",
     "text": [
      "<ipython-input-22-754adb80a02b>:1: SettingWithCopyWarning: \n",
      "A value is trying to be set on a copy of a slice from a DataFrame.\n",
      "Try using .loc[row_indexer,col_indexer] = value instead\n",
      "\n",
      "See the caveats in the documentation: https://pandas.pydata.org/pandas-docs/stable/user_guide/indexing.html#returning-a-view-versus-a-copy\n",
      "  df_empty_blocks_post[\"time_hours\"] = df_empty_blocks_post.time.apply(func)\n"
     ]
    }
   ],
   "source": [
    "df_empty_blocks_post[\"time_hours\"] = df_empty_blocks_post.time.apply(func)"
   ]
  },
  {
   "cell_type": "code",
   "execution_count": 23,
   "metadata": {},
   "outputs": [
    {
     "data": {
      "text/html": [
       "<div>\n",
       "<style scoped>\n",
       "    .dataframe tbody tr th:only-of-type {\n",
       "        vertical-align: middle;\n",
       "    }\n",
       "\n",
       "    .dataframe tbody tr th {\n",
       "        vertical-align: top;\n",
       "    }\n",
       "\n",
       "    .dataframe thead th {\n",
       "        text-align: right;\n",
       "    }\n",
       "</style>\n",
       "<table border=\"1\" class=\"dataframe\">\n",
       "  <thead>\n",
       "    <tr style=\"text-align: right;\">\n",
       "      <th></th>\n",
       "      <th>gas_limit</th>\n",
       "      <th>gas_used</th>\n",
       "      <th>timestamp</th>\n",
       "      <th>transaction_count</th>\n",
       "      <th>base_fee_per_gas</th>\n",
       "      <th>time</th>\n",
       "      <th>time_hours</th>\n",
       "    </tr>\n",
       "    <tr>\n",
       "      <th>block_number</th>\n",
       "      <th></th>\n",
       "      <th></th>\n",
       "      <th></th>\n",
       "      <th></th>\n",
       "      <th></th>\n",
       "      <th></th>\n",
       "      <th></th>\n",
       "    </tr>\n",
       "  </thead>\n",
       "  <tbody>\n",
       "    <tr>\n",
       "      <th>12965025</th>\n",
       "      <td>29707933</td>\n",
       "      <td>0</td>\n",
       "      <td>2021-08-05 12:39:11</td>\n",
       "      <td>0</td>\n",
       "      <td>18966352132</td>\n",
       "      <td>12:39:11</td>\n",
       "      <td>12</td>\n",
       "    </tr>\n",
       "    <tr>\n",
       "      <th>12965030</th>\n",
       "      <td>29620959</td>\n",
       "      <td>0</td>\n",
       "      <td>2021-08-05 12:40:34</td>\n",
       "      <td>0</td>\n",
       "      <td>26574645197</td>\n",
       "      <td>12:40:34</td>\n",
       "      <td>12</td>\n",
       "    </tr>\n",
       "    <tr>\n",
       "      <th>12965102</th>\n",
       "      <td>29160751</td>\n",
       "      <td>0</td>\n",
       "      <td>2021-08-05 12:58:50</td>\n",
       "      <td>0</td>\n",
       "      <td>44897818302</td>\n",
       "      <td>12:58:50</td>\n",
       "      <td>12</td>\n",
       "    </tr>\n",
       "    <tr>\n",
       "      <th>12965108</th>\n",
       "      <td>28990313</td>\n",
       "      <td>0</td>\n",
       "      <td>2021-08-05 12:59:36</td>\n",
       "      <td>0</td>\n",
       "      <td>37721496602</td>\n",
       "      <td>12:59:36</td>\n",
       "      <td>12</td>\n",
       "    </tr>\n",
       "    <tr>\n",
       "      <th>12965111</th>\n",
       "      <td>29018594</td>\n",
       "      <td>0</td>\n",
       "      <td>2021-08-05 12:59:58</td>\n",
       "      <td>0</td>\n",
       "      <td>36312927336</td>\n",
       "      <td>12:59:58</td>\n",
       "      <td>12</td>\n",
       "    </tr>\n",
       "    <tr>\n",
       "      <th>...</th>\n",
       "      <td>...</td>\n",
       "      <td>...</td>\n",
       "      <td>...</td>\n",
       "      <td>...</td>\n",
       "      <td>...</td>\n",
       "      <td>...</td>\n",
       "      <td>...</td>\n",
       "    </tr>\n",
       "    <tr>\n",
       "      <th>13293321</th>\n",
       "      <td>30000000</td>\n",
       "      <td>0</td>\n",
       "      <td>2021-09-25 06:30:41</td>\n",
       "      <td>0</td>\n",
       "      <td>34067564225</td>\n",
       "      <td>06:30:41</td>\n",
       "      <td>06</td>\n",
       "    </tr>\n",
       "    <tr>\n",
       "      <th>13293580</th>\n",
       "      <td>30000000</td>\n",
       "      <td>0</td>\n",
       "      <td>2021-09-25 07:28:09</td>\n",
       "      <td>0</td>\n",
       "      <td>40351528462</td>\n",
       "      <td>07:28:09</td>\n",
       "      <td>07</td>\n",
       "    </tr>\n",
       "    <tr>\n",
       "      <th>13293671</th>\n",
       "      <td>30000000</td>\n",
       "      <td>0</td>\n",
       "      <td>2021-09-25 07:45:28</td>\n",
       "      <td>0</td>\n",
       "      <td>38747803668</td>\n",
       "      <td>07:45:28</td>\n",
       "      <td>07</td>\n",
       "    </tr>\n",
       "    <tr>\n",
       "      <th>13293681</th>\n",
       "      <td>30000000</td>\n",
       "      <td>0</td>\n",
       "      <td>2021-09-25 07:47:17</td>\n",
       "      <td>0</td>\n",
       "      <td>37010053351</td>\n",
       "      <td>07:47:17</td>\n",
       "      <td>07</td>\n",
       "    </tr>\n",
       "    <tr>\n",
       "      <th>13293692</th>\n",
       "      <td>30000000</td>\n",
       "      <td>0</td>\n",
       "      <td>2021-09-25 07:49:56</td>\n",
       "      <td>0</td>\n",
       "      <td>50686835563</td>\n",
       "      <td>07:49:56</td>\n",
       "      <td>07</td>\n",
       "    </tr>\n",
       "  </tbody>\n",
       "</table>\n",
       "<p>5214 rows × 7 columns</p>\n",
       "</div>"
      ],
      "text/plain": [
       "              gas_limit  gas_used           timestamp  transaction_count  \\\n",
       "block_number                                                               \n",
       "12965025       29707933         0 2021-08-05 12:39:11                  0   \n",
       "12965030       29620959         0 2021-08-05 12:40:34                  0   \n",
       "12965102       29160751         0 2021-08-05 12:58:50                  0   \n",
       "12965108       28990313         0 2021-08-05 12:59:36                  0   \n",
       "12965111       29018594         0 2021-08-05 12:59:58                  0   \n",
       "...                 ...       ...                 ...                ...   \n",
       "13293321       30000000         0 2021-09-25 06:30:41                  0   \n",
       "13293580       30000000         0 2021-09-25 07:28:09                  0   \n",
       "13293671       30000000         0 2021-09-25 07:45:28                  0   \n",
       "13293681       30000000         0 2021-09-25 07:47:17                  0   \n",
       "13293692       30000000         0 2021-09-25 07:49:56                  0   \n",
       "\n",
       "              base_fee_per_gas      time time_hours  \n",
       "block_number                                         \n",
       "12965025           18966352132  12:39:11         12  \n",
       "12965030           26574645197  12:40:34         12  \n",
       "12965102           44897818302  12:58:50         12  \n",
       "12965108           37721496602  12:59:36         12  \n",
       "12965111           36312927336  12:59:58         12  \n",
       "...                        ...       ...        ...  \n",
       "13293321           34067564225  06:30:41         06  \n",
       "13293580           40351528462  07:28:09         07  \n",
       "13293671           38747803668  07:45:28         07  \n",
       "13293681           37010053351  07:47:17         07  \n",
       "13293692           50686835563  07:49:56         07  \n",
       "\n",
       "[5214 rows x 7 columns]"
      ]
     },
     "execution_count": 23,
     "metadata": {},
     "output_type": "execute_result"
    }
   ],
   "source": [
    "df_empty_blocks_post"
   ]
  },
  {
   "cell_type": "code",
   "execution_count": 24,
   "metadata": {},
   "outputs": [
    {
     "name": "stderr",
     "output_type": "stream",
     "text": [
      "C:\\Users\\TienTran\\AppData\\Roaming\\Python\\Python38\\site-packages\\pandas\\core\\generic.py:5516: SettingWithCopyWarning: \n",
      "A value is trying to be set on a copy of a slice from a DataFrame.\n",
      "Try using .loc[row_indexer,col_indexer] = value instead\n",
      "\n",
      "See the caveats in the documentation: https://pandas.pydata.org/pandas-docs/stable/user_guide/indexing.html#returning-a-view-versus-a-copy\n",
      "  self[name] = value\n"
     ]
    }
   ],
   "source": [
    "df_empty_blocks_post.time_hours = df_empty_blocks_post.time_hours.astype(int)"
   ]
  },
  {
   "cell_type": "code",
   "execution_count": 25,
   "metadata": {},
   "outputs": [
    {
     "data": {
      "text/plain": [
       "block_number\n",
       "12965025    12\n",
       "12965030    12\n",
       "12965102    12\n",
       "12965108    12\n",
       "12965111    12\n",
       "            ..\n",
       "13293321     6\n",
       "13293580     7\n",
       "13293671     7\n",
       "13293681     7\n",
       "13293692     7\n",
       "Name: time_hours, Length: 5214, dtype: int32"
      ]
     },
     "execution_count": 25,
     "metadata": {},
     "output_type": "execute_result"
    }
   ],
   "source": [
    "df_empty_blocks_post.time_hours"
   ]
  },
  {
   "cell_type": "code",
   "execution_count": 26,
   "metadata": {},
   "outputs": [
    {
     "data": {
      "image/png": "[encoded data removed]",
      "text/plain": [
       "<Figure size 864x576 with 1 Axes>"
      ]
     },
     "metadata": {
      "needs_background": "light"
     },
     "output_type": "display_data"
    }
   ],
   "source": [
    "plt.figure(figsize=(12,8))\n",
    "sns.histplot(df_empty_blocks_post.time_hours, bins=120)\n",
    "\n",
    "plt.xlabel('time')\n",
    "plt.ylabel('Frequency')\n",
    "plt.title('Visualize Time the Empty Blocks are added to the Blockchain (Post EIP-1559)')\n",
    "\n",
    "plt.show;"
   ]
  },
  {
   "cell_type": "markdown",
   "metadata": {},
   "source": [
    "•\tFor 328,693 blocks there are 5,214 blocks are empty block.\n",
    "•\tEmpty blocks are added to the blockchain the least is at 6 AM to 7 AM.\n",
    "•\tEmpty blocks are added to the blockchain the most is at 3 AM to 4 AM."
   ]
  },
  {
   "cell_type": "markdown",
   "metadata": {},
   "source": [
    "### Pre EIP-1559 Data"
   ]
  },
  {
   "cell_type": "code",
   "execution_count": 27,
   "metadata": {},
   "outputs": [
    {
     "data": {
      "text/html": [
       "<div>\n",
       "<style scoped>\n",
       "    .dataframe tbody tr th:only-of-type {\n",
       "        vertical-align: middle;\n",
       "    }\n",
       "\n",
       "    .dataframe tbody tr th {\n",
       "        vertical-align: top;\n",
       "    }\n",
       "\n",
       "    .dataframe thead th {\n",
       "        text-align: right;\n",
       "    }\n",
       "</style>\n",
       "<table border=\"1\" class=\"dataframe\">\n",
       "  <thead>\n",
       "    <tr style=\"text-align: right;\">\n",
       "      <th></th>\n",
       "      <th>number</th>\n",
       "      <th>size</th>\n",
       "      <th>gas_limit</th>\n",
       "      <th>gas_used</th>\n",
       "      <th>timestamp</th>\n",
       "      <th>base_fee_per_gas</th>\n",
       "    </tr>\n",
       "  </thead>\n",
       "  <tbody>\n",
       "    <tr>\n",
       "      <th>0</th>\n",
       "      <td>11811333</td>\n",
       "      <td>44643</td>\n",
       "      <td>12512206</td>\n",
       "      <td>12459259</td>\n",
       "      <td>1612727855</td>\n",
       "      <td>NaN</td>\n",
       "    </tr>\n",
       "    <tr>\n",
       "      <th>1</th>\n",
       "      <td>11811334</td>\n",
       "      <td>51820</td>\n",
       "      <td>12499989</td>\n",
       "      <td>12498672</td>\n",
       "      <td>1612727870</td>\n",
       "      <td>NaN</td>\n",
       "    </tr>\n",
       "    <tr>\n",
       "      <th>2</th>\n",
       "      <td>11811335</td>\n",
       "      <td>53694</td>\n",
       "      <td>12487783</td>\n",
       "      <td>12474603</td>\n",
       "      <td>1612727890</td>\n",
       "      <td>NaN</td>\n",
       "    </tr>\n",
       "    <tr>\n",
       "      <th>3</th>\n",
       "      <td>11811336</td>\n",
       "      <td>48038</td>\n",
       "      <td>12499977</td>\n",
       "      <td>12485111</td>\n",
       "      <td>1612727918</td>\n",
       "      <td>NaN</td>\n",
       "    </tr>\n",
       "    <tr>\n",
       "      <th>4</th>\n",
       "      <td>11811337</td>\n",
       "      <td>48303</td>\n",
       "      <td>12487771</td>\n",
       "      <td>12480655</td>\n",
       "      <td>1612727927</td>\n",
       "      <td>NaN</td>\n",
       "    </tr>\n",
       "    <tr>\n",
       "      <th>...</th>\n",
       "      <td>...</td>\n",
       "      <td>...</td>\n",
       "      <td>...</td>\n",
       "      <td>...</td>\n",
       "      <td>...</td>\n",
       "      <td>...</td>\n",
       "    </tr>\n",
       "    <tr>\n",
       "      <th>249996</th>\n",
       "      <td>12061328</td>\n",
       "      <td>58208</td>\n",
       "      <td>12500000</td>\n",
       "      <td>12483795</td>\n",
       "      <td>1616053279</td>\n",
       "      <td>NaN</td>\n",
       "    </tr>\n",
       "    <tr>\n",
       "      <th>249997</th>\n",
       "      <td>12061329</td>\n",
       "      <td>47286</td>\n",
       "      <td>12487794</td>\n",
       "      <td>12469637</td>\n",
       "      <td>1616053312</td>\n",
       "      <td>NaN</td>\n",
       "    </tr>\n",
       "    <tr>\n",
       "      <th>249998</th>\n",
       "      <td>12061330</td>\n",
       "      <td>54114</td>\n",
       "      <td>12475600</td>\n",
       "      <td>12466343</td>\n",
       "      <td>1616053315</td>\n",
       "      <td>NaN</td>\n",
       "    </tr>\n",
       "    <tr>\n",
       "      <th>249999</th>\n",
       "      <td>12061331</td>\n",
       "      <td>40737</td>\n",
       "      <td>12463418</td>\n",
       "      <td>12451780</td>\n",
       "      <td>1616053338</td>\n",
       "      <td>NaN</td>\n",
       "    </tr>\n",
       "    <tr>\n",
       "      <th>250000</th>\n",
       "      <td>12061332</td>\n",
       "      <td>39887</td>\n",
       "      <td>12475588</td>\n",
       "      <td>12459087</td>\n",
       "      <td>1616053347</td>\n",
       "      <td>NaN</td>\n",
       "    </tr>\n",
       "  </tbody>\n",
       "</table>\n",
       "<p>250001 rows × 6 columns</p>\n",
       "</div>"
      ],
      "text/plain": [
       "          number   size  gas_limit  gas_used   timestamp  base_fee_per_gas\n",
       "0       11811333  44643   12512206  12459259  1612727855               NaN\n",
       "1       11811334  51820   12499989  12498672  1612727870               NaN\n",
       "2       11811335  53694   12487783  12474603  1612727890               NaN\n",
       "3       11811336  48038   12499977  12485111  1612727918               NaN\n",
       "4       11811337  48303   12487771  12480655  1612727927               NaN\n",
       "...          ...    ...        ...       ...         ...               ...\n",
       "249996  12061328  58208   12500000  12483795  1616053279               NaN\n",
       "249997  12061329  47286   12487794  12469637  1616053312               NaN\n",
       "249998  12061330  54114   12475600  12466343  1616053315               NaN\n",
       "249999  12061331  40737   12463418  12451780  1616053338               NaN\n",
       "250000  12061332  39887   12475588  12459087  1616053347               NaN\n",
       "\n",
       "[250001 rows x 6 columns]"
      ]
     },
     "execution_count": 27,
     "metadata": {},
     "output_type": "execute_result"
    }
   ],
   "source": [
    "df_blocks_pre"
   ]
  },
  {
   "cell_type": "markdown",
   "metadata": {},
   "source": [
    "Plot histogram of gas used (Pre EIP-1559)"
   ]
  },
  {
   "cell_type": "code",
   "execution_count": 28,
   "metadata": {},
   "outputs": [
    {
     "data": {
      "text/plain": [
       "Text(0.5, 1.0, 'Histogram of Gas Used (Pre EIP-1559)')"
      ]
     },
     "execution_count": 28,
     "metadata": {},
     "output_type": "execute_result"
    },
    {
     "data": {
      "image/png": "[encoded data removed]",
      "text/plain": [
       "<Figure size 864x576 with 1 Axes>"
      ]
     },
     "metadata": {
      "needs_background": "light"
     },
     "output_type": "display_data"
    }
   ],
   "source": [
    "plt.figure(figsize=(12,8))\n",
    "sns.histplot(df_blocks_pre.gas_used, bins=10)\n",
    "\n",
    "plt.xlabel('Gas Used')\n",
    "plt.ylabel('Frequency')\n",
    "plt.title('Histogram of Gas Used (Pre EIP-1559)')"
   ]
  },
  {
   "cell_type": "code",
   "execution_count": 29,
   "metadata": {},
   "outputs": [],
   "source": [
    "df_blocks_pre.rename(columns={'number': 'block_number'}, inplace=True)"
   ]
  },
  {
   "cell_type": "code",
   "execution_count": 30,
   "metadata": {},
   "outputs": [],
   "source": [
    "df_blocks_pre = df_blocks_pre.sort_values('block_number')"
   ]
  },
  {
   "cell_type": "code",
   "execution_count": 31,
   "metadata": {},
   "outputs": [],
   "source": [
    "df_blocks_pre.set_index(\"block_number\", inplace=True)"
   ]
  },
  {
   "cell_type": "markdown",
   "metadata": {},
   "source": [
    "Pick out empty blocks and assign to a new dataframe."
   ]
  },
  {
   "cell_type": "code",
   "execution_count": 32,
   "metadata": {},
   "outputs": [],
   "source": [
    "df_empty_blocks_pre = df_blocks_pre[df_blocks_pre['gas_used'].between(0, 0)]"
   ]
  },
  {
   "cell_type": "code",
   "execution_count": 33,
   "metadata": {},
   "outputs": [
    {
     "data": {
      "text/html": [
       "<div>\n",
       "<style scoped>\n",
       "    .dataframe tbody tr th:only-of-type {\n",
       "        vertical-align: middle;\n",
       "    }\n",
       "\n",
       "    .dataframe tbody tr th {\n",
       "        vertical-align: top;\n",
       "    }\n",
       "\n",
       "    .dataframe thead th {\n",
       "        text-align: right;\n",
       "    }\n",
       "</style>\n",
       "<table border=\"1\" class=\"dataframe\">\n",
       "  <thead>\n",
       "    <tr style=\"text-align: right;\">\n",
       "      <th></th>\n",
       "      <th>size</th>\n",
       "      <th>gas_limit</th>\n",
       "      <th>gas_used</th>\n",
       "      <th>timestamp</th>\n",
       "      <th>base_fee_per_gas</th>\n",
       "    </tr>\n",
       "    <tr>\n",
       "      <th>block_number</th>\n",
       "      <th></th>\n",
       "      <th></th>\n",
       "      <th></th>\n",
       "      <th></th>\n",
       "      <th></th>\n",
       "    </tr>\n",
       "  </thead>\n",
       "  <tbody>\n",
       "    <tr>\n",
       "      <th>11811369</th>\n",
       "      <td>534</td>\n",
       "      <td>12499897</td>\n",
       "      <td>0</td>\n",
       "      <td>1612728325</td>\n",
       "      <td>NaN</td>\n",
       "    </tr>\n",
       "    <tr>\n",
       "      <th>11811375</th>\n",
       "      <td>541</td>\n",
       "      <td>12475476</td>\n",
       "      <td>0</td>\n",
       "      <td>1612728362</td>\n",
       "      <td>NaN</td>\n",
       "    </tr>\n",
       "    <tr>\n",
       "      <th>11811485</th>\n",
       "      <td>533</td>\n",
       "      <td>12500000</td>\n",
       "      <td>0</td>\n",
       "      <td>1612729862</td>\n",
       "      <td>NaN</td>\n",
       "    </tr>\n",
       "    <tr>\n",
       "      <th>11811514</th>\n",
       "      <td>544</td>\n",
       "      <td>12487782</td>\n",
       "      <td>0</td>\n",
       "      <td>1612730166</td>\n",
       "      <td>NaN</td>\n",
       "    </tr>\n",
       "    <tr>\n",
       "      <th>11811551</th>\n",
       "      <td>541</td>\n",
       "      <td>12475600</td>\n",
       "      <td>0</td>\n",
       "      <td>1612730669</td>\n",
       "      <td>NaN</td>\n",
       "    </tr>\n",
       "    <tr>\n",
       "      <th>...</th>\n",
       "      <td>...</td>\n",
       "      <td>...</td>\n",
       "      <td>...</td>\n",
       "      <td>...</td>\n",
       "      <td>...</td>\n",
       "    </tr>\n",
       "    <tr>\n",
       "      <th>12061099</th>\n",
       "      <td>541</td>\n",
       "      <td>12500000</td>\n",
       "      <td>0</td>\n",
       "      <td>1616049841</td>\n",
       "      <td>NaN</td>\n",
       "    </tr>\n",
       "    <tr>\n",
       "      <th>12061159</th>\n",
       "      <td>534</td>\n",
       "      <td>12487782</td>\n",
       "      <td>0</td>\n",
       "      <td>1616050473</td>\n",
       "      <td>NaN</td>\n",
       "    </tr>\n",
       "    <tr>\n",
       "      <th>12061208</th>\n",
       "      <td>540</td>\n",
       "      <td>12469457</td>\n",
       "      <td>0</td>\n",
       "      <td>1616051424</td>\n",
       "      <td>NaN</td>\n",
       "    </tr>\n",
       "    <tr>\n",
       "      <th>12061215</th>\n",
       "      <td>530</td>\n",
       "      <td>12512173</td>\n",
       "      <td>0</td>\n",
       "      <td>1616051465</td>\n",
       "      <td>NaN</td>\n",
       "    </tr>\n",
       "    <tr>\n",
       "      <th>12061270</th>\n",
       "      <td>540</td>\n",
       "      <td>12481621</td>\n",
       "      <td>0</td>\n",
       "      <td>1616052260</td>\n",
       "      <td>NaN</td>\n",
       "    </tr>\n",
       "  </tbody>\n",
       "</table>\n",
       "<p>4585 rows × 5 columns</p>\n",
       "</div>"
      ],
      "text/plain": [
       "              size  gas_limit  gas_used   timestamp  base_fee_per_gas\n",
       "block_number                                                         \n",
       "11811369       534   12499897         0  1612728325               NaN\n",
       "11811375       541   12475476         0  1612728362               NaN\n",
       "11811485       533   12500000         0  1612729862               NaN\n",
       "11811514       544   12487782         0  1612730166               NaN\n",
       "11811551       541   12475600         0  1612730669               NaN\n",
       "...            ...        ...       ...         ...               ...\n",
       "12061099       541   12500000         0  1616049841               NaN\n",
       "12061159       534   12487782         0  1616050473               NaN\n",
       "12061208       540   12469457         0  1616051424               NaN\n",
       "12061215       530   12512173         0  1616051465               NaN\n",
       "12061270       540   12481621         0  1616052260               NaN\n",
       "\n",
       "[4585 rows x 5 columns]"
      ]
     },
     "execution_count": 33,
     "metadata": {},
     "output_type": "execute_result"
    }
   ],
   "source": [
    "df_empty_blocks_pre"
   ]
  },
  {
   "cell_type": "code",
   "execution_count": 34,
   "metadata": {},
   "outputs": [
    {
     "data": {
      "text/plain": [
       "Text(0.5, 1.0, 'Visualize (Pre EIP-1559) Empty Blocks via its Gas Used')"
      ]
     },
     "execution_count": 34,
     "metadata": {},
     "output_type": "execute_result"
    },
    {
     "data": {
      "image/png": "[encoded data removed]",
      "text/plain": [
       "<Figure size 864x576 with 1 Axes>"
      ]
     },
     "metadata": {
      "needs_background": "light"
     },
     "output_type": "display_data"
    }
   ],
   "source": [
    "plt.figure(figsize=(12,8))\n",
    "sns.histplot(df_empty_blocks_pre.gas_used, bins=120)\n",
    "\n",
    "plt.xlabel('Gas Used')\n",
    "plt.ylabel('Frequency')\n",
    "plt.title('Visualize (Pre EIP-1559) Empty Blocks via its Gas Used')"
   ]
  },
  {
   "cell_type": "code",
   "execution_count": 35,
   "metadata": {},
   "outputs": [
    {
     "data": {
      "text/plain": [
       "4585"
      ]
     },
     "execution_count": 35,
     "metadata": {},
     "output_type": "execute_result"
    }
   ],
   "source": [
    "len(df_empty_blocks_pre.gas_used)"
   ]
  },
  {
   "cell_type": "markdown",
   "metadata": {},
   "source": [
    "We see that there are approximately 5000 empty blocks within block 11811333 to 12061332 (total of 250,000 blocks, from Feb-07-2021 to Mar-18-2021)."
   ]
  },
  {
   "cell_type": "markdown",
   "metadata": {},
   "source": [
    "A comparison between Post EIP-1559 data and Pre EIP-1559 data, both ~1 month data, Aug – Sep and Feb – Mar, respectively, we see that they have a very similar number of empty blocks, around 5,000."
   ]
  },
  {
   "cell_type": "code",
   "execution_count": 36,
   "metadata": {},
   "outputs": [
    {
     "name": "stderr",
     "output_type": "stream",
     "text": [
      "<ipython-input-36-d3ee41dea509>:1: SettingWithCopyWarning: \n",
      "A value is trying to be set on a copy of a slice from a DataFrame.\n",
      "Try using .loc[row_indexer,col_indexer] = value instead\n",
      "\n",
      "See the caveats in the documentation: https://pandas.pydata.org/pandas-docs/stable/user_guide/indexing.html#returning-a-view-versus-a-copy\n",
      "  df_empty_blocks_pre['timestamp'] = pd.to_datetime(df_empty_blocks_pre['timestamp'],unit='s')\n"
     ]
    }
   ],
   "source": [
    "df_empty_blocks_pre['timestamp'] = pd.to_datetime(df_empty_blocks_pre['timestamp'],unit='s')"
   ]
  },
  {
   "cell_type": "code",
   "execution_count": 37,
   "metadata": {},
   "outputs": [
    {
     "name": "stderr",
     "output_type": "stream",
     "text": [
      "<ipython-input-37-3909c8a44496>:1: SettingWithCopyWarning: \n",
      "A value is trying to be set on a copy of a slice from a DataFrame.\n",
      "Try using .loc[row_indexer,col_indexer] = value instead\n",
      "\n",
      "See the caveats in the documentation: https://pandas.pydata.org/pandas-docs/stable/user_guide/indexing.html#returning-a-view-versus-a-copy\n",
      "  df_empty_blocks_pre['time'] = df_empty_blocks_pre['timestamp'].dt.time\n"
     ]
    }
   ],
   "source": [
    "df_empty_blocks_pre['time'] = df_empty_blocks_pre['timestamp'].dt.time"
   ]
  },
  {
   "cell_type": "code",
   "execution_count": 38,
   "metadata": {},
   "outputs": [
    {
     "name": "stderr",
     "output_type": "stream",
     "text": [
      "C:\\Users\\TienTran\\AppData\\Roaming\\Python\\Python38\\site-packages\\pandas\\core\\generic.py:5516: SettingWithCopyWarning: \n",
      "A value is trying to be set on a copy of a slice from a DataFrame.\n",
      "Try using .loc[row_indexer,col_indexer] = value instead\n",
      "\n",
      "See the caveats in the documentation: https://pandas.pydata.org/pandas-docs/stable/user_guide/indexing.html#returning-a-view-versus-a-copy\n",
      "  self[name] = value\n"
     ]
    }
   ],
   "source": [
    "df_empty_blocks_pre.time = df_empty_blocks_pre.time.astype(str).copy()"
   ]
  },
  {
   "cell_type": "code",
   "execution_count": 39,
   "metadata": {},
   "outputs": [
    {
     "data": {
      "text/html": [
       "<div>\n",
       "<style scoped>\n",
       "    .dataframe tbody tr th:only-of-type {\n",
       "        vertical-align: middle;\n",
       "    }\n",
       "\n",
       "    .dataframe tbody tr th {\n",
       "        vertical-align: top;\n",
       "    }\n",
       "\n",
       "    .dataframe thead th {\n",
       "        text-align: right;\n",
       "    }\n",
       "</style>\n",
       "<table border=\"1\" class=\"dataframe\">\n",
       "  <thead>\n",
       "    <tr style=\"text-align: right;\">\n",
       "      <th></th>\n",
       "      <th>size</th>\n",
       "      <th>gas_limit</th>\n",
       "      <th>gas_used</th>\n",
       "      <th>timestamp</th>\n",
       "      <th>base_fee_per_gas</th>\n",
       "      <th>time</th>\n",
       "    </tr>\n",
       "    <tr>\n",
       "      <th>block_number</th>\n",
       "      <th></th>\n",
       "      <th></th>\n",
       "      <th></th>\n",
       "      <th></th>\n",
       "      <th></th>\n",
       "      <th></th>\n",
       "    </tr>\n",
       "  </thead>\n",
       "  <tbody>\n",
       "    <tr>\n",
       "      <th>11811369</th>\n",
       "      <td>534</td>\n",
       "      <td>12499897</td>\n",
       "      <td>0</td>\n",
       "      <td>2021-02-07 20:05:25</td>\n",
       "      <td>NaN</td>\n",
       "      <td>20:05:25</td>\n",
       "    </tr>\n",
       "    <tr>\n",
       "      <th>11811375</th>\n",
       "      <td>541</td>\n",
       "      <td>12475476</td>\n",
       "      <td>0</td>\n",
       "      <td>2021-02-07 20:06:02</td>\n",
       "      <td>NaN</td>\n",
       "      <td>20:06:02</td>\n",
       "    </tr>\n",
       "    <tr>\n",
       "      <th>11811485</th>\n",
       "      <td>533</td>\n",
       "      <td>12500000</td>\n",
       "      <td>0</td>\n",
       "      <td>2021-02-07 20:31:02</td>\n",
       "      <td>NaN</td>\n",
       "      <td>20:31:02</td>\n",
       "    </tr>\n",
       "    <tr>\n",
       "      <th>11811514</th>\n",
       "      <td>544</td>\n",
       "      <td>12487782</td>\n",
       "      <td>0</td>\n",
       "      <td>2021-02-07 20:36:06</td>\n",
       "      <td>NaN</td>\n",
       "      <td>20:36:06</td>\n",
       "    </tr>\n",
       "    <tr>\n",
       "      <th>11811551</th>\n",
       "      <td>541</td>\n",
       "      <td>12475600</td>\n",
       "      <td>0</td>\n",
       "      <td>2021-02-07 20:44:29</td>\n",
       "      <td>NaN</td>\n",
       "      <td>20:44:29</td>\n",
       "    </tr>\n",
       "    <tr>\n",
       "      <th>...</th>\n",
       "      <td>...</td>\n",
       "      <td>...</td>\n",
       "      <td>...</td>\n",
       "      <td>...</td>\n",
       "      <td>...</td>\n",
       "      <td>...</td>\n",
       "    </tr>\n",
       "    <tr>\n",
       "      <th>12061099</th>\n",
       "      <td>541</td>\n",
       "      <td>12500000</td>\n",
       "      <td>0</td>\n",
       "      <td>2021-03-18 06:44:01</td>\n",
       "      <td>NaN</td>\n",
       "      <td>06:44:01</td>\n",
       "    </tr>\n",
       "    <tr>\n",
       "      <th>12061159</th>\n",
       "      <td>534</td>\n",
       "      <td>12487782</td>\n",
       "      <td>0</td>\n",
       "      <td>2021-03-18 06:54:33</td>\n",
       "      <td>NaN</td>\n",
       "      <td>06:54:33</td>\n",
       "    </tr>\n",
       "    <tr>\n",
       "      <th>12061208</th>\n",
       "      <td>540</td>\n",
       "      <td>12469457</td>\n",
       "      <td>0</td>\n",
       "      <td>2021-03-18 07:10:24</td>\n",
       "      <td>NaN</td>\n",
       "      <td>07:10:24</td>\n",
       "    </tr>\n",
       "    <tr>\n",
       "      <th>12061215</th>\n",
       "      <td>530</td>\n",
       "      <td>12512173</td>\n",
       "      <td>0</td>\n",
       "      <td>2021-03-18 07:11:05</td>\n",
       "      <td>NaN</td>\n",
       "      <td>07:11:05</td>\n",
       "    </tr>\n",
       "    <tr>\n",
       "      <th>12061270</th>\n",
       "      <td>540</td>\n",
       "      <td>12481621</td>\n",
       "      <td>0</td>\n",
       "      <td>2021-03-18 07:24:20</td>\n",
       "      <td>NaN</td>\n",
       "      <td>07:24:20</td>\n",
       "    </tr>\n",
       "  </tbody>\n",
       "</table>\n",
       "<p>4585 rows × 6 columns</p>\n",
       "</div>"
      ],
      "text/plain": [
       "              size  gas_limit  gas_used           timestamp  base_fee_per_gas  \\\n",
       "block_number                                                                    \n",
       "11811369       534   12499897         0 2021-02-07 20:05:25               NaN   \n",
       "11811375       541   12475476         0 2021-02-07 20:06:02               NaN   \n",
       "11811485       533   12500000         0 2021-02-07 20:31:02               NaN   \n",
       "11811514       544   12487782         0 2021-02-07 20:36:06               NaN   \n",
       "11811551       541   12475600         0 2021-02-07 20:44:29               NaN   \n",
       "...            ...        ...       ...                 ...               ...   \n",
       "12061099       541   12500000         0 2021-03-18 06:44:01               NaN   \n",
       "12061159       534   12487782         0 2021-03-18 06:54:33               NaN   \n",
       "12061208       540   12469457         0 2021-03-18 07:10:24               NaN   \n",
       "12061215       530   12512173         0 2021-03-18 07:11:05               NaN   \n",
       "12061270       540   12481621         0 2021-03-18 07:24:20               NaN   \n",
       "\n",
       "                  time  \n",
       "block_number            \n",
       "11811369      20:05:25  \n",
       "11811375      20:06:02  \n",
       "11811485      20:31:02  \n",
       "11811514      20:36:06  \n",
       "11811551      20:44:29  \n",
       "...                ...  \n",
       "12061099      06:44:01  \n",
       "12061159      06:54:33  \n",
       "12061208      07:10:24  \n",
       "12061215      07:11:05  \n",
       "12061270      07:24:20  \n",
       "\n",
       "[4585 rows x 6 columns]"
      ]
     },
     "execution_count": 39,
     "metadata": {},
     "output_type": "execute_result"
    }
   ],
   "source": [
    "df_empty_blocks_pre"
   ]
  },
  {
   "cell_type": "code",
   "execution_count": 40,
   "metadata": {},
   "outputs": [
    {
     "name": "stderr",
     "output_type": "stream",
     "text": [
      "<ipython-input-40-eb3a439e11cd>:1: SettingWithCopyWarning: \n",
      "A value is trying to be set on a copy of a slice from a DataFrame.\n",
      "Try using .loc[row_indexer,col_indexer] = value instead\n",
      "\n",
      "See the caveats in the documentation: https://pandas.pydata.org/pandas-docs/stable/user_guide/indexing.html#returning-a-view-versus-a-copy\n",
      "  df_empty_blocks_pre[\"time_hours\"] = df_empty_blocks_pre.time.apply(func)\n"
     ]
    }
   ],
   "source": [
    "df_empty_blocks_pre[\"time_hours\"] = df_empty_blocks_pre.time.apply(func)"
   ]
  },
  {
   "cell_type": "code",
   "execution_count": 41,
   "metadata": {},
   "outputs": [
    {
     "name": "stderr",
     "output_type": "stream",
     "text": [
      "C:\\Users\\TienTran\\AppData\\Roaming\\Python\\Python38\\site-packages\\pandas\\core\\generic.py:5516: SettingWithCopyWarning: \n",
      "A value is trying to be set on a copy of a slice from a DataFrame.\n",
      "Try using .loc[row_indexer,col_indexer] = value instead\n",
      "\n",
      "See the caveats in the documentation: https://pandas.pydata.org/pandas-docs/stable/user_guide/indexing.html#returning-a-view-versus-a-copy\n",
      "  self[name] = value\n"
     ]
    }
   ],
   "source": [
    "df_empty_blocks_pre.time_hours = df_empty_blocks_pre.time_hours.astype(int)"
   ]
  },
  {
   "cell_type": "code",
   "execution_count": 42,
   "metadata": {},
   "outputs": [
    {
     "data": {
      "text/html": [
       "<div>\n",
       "<style scoped>\n",
       "    .dataframe tbody tr th:only-of-type {\n",
       "        vertical-align: middle;\n",
       "    }\n",
       "\n",
       "    .dataframe tbody tr th {\n",
       "        vertical-align: top;\n",
       "    }\n",
       "\n",
       "    .dataframe thead th {\n",
       "        text-align: right;\n",
       "    }\n",
       "</style>\n",
       "<table border=\"1\" class=\"dataframe\">\n",
       "  <thead>\n",
       "    <tr style=\"text-align: right;\">\n",
       "      <th></th>\n",
       "      <th>size</th>\n",
       "      <th>gas_limit</th>\n",
       "      <th>gas_used</th>\n",
       "      <th>timestamp</th>\n",
       "      <th>base_fee_per_gas</th>\n",
       "      <th>time</th>\n",
       "      <th>time_hours</th>\n",
       "    </tr>\n",
       "    <tr>\n",
       "      <th>block_number</th>\n",
       "      <th></th>\n",
       "      <th></th>\n",
       "      <th></th>\n",
       "      <th></th>\n",
       "      <th></th>\n",
       "      <th></th>\n",
       "      <th></th>\n",
       "    </tr>\n",
       "  </thead>\n",
       "  <tbody>\n",
       "    <tr>\n",
       "      <th>11811369</th>\n",
       "      <td>534</td>\n",
       "      <td>12499897</td>\n",
       "      <td>0</td>\n",
       "      <td>2021-02-07 20:05:25</td>\n",
       "      <td>NaN</td>\n",
       "      <td>20:05:25</td>\n",
       "      <td>20</td>\n",
       "    </tr>\n",
       "    <tr>\n",
       "      <th>11811375</th>\n",
       "      <td>541</td>\n",
       "      <td>12475476</td>\n",
       "      <td>0</td>\n",
       "      <td>2021-02-07 20:06:02</td>\n",
       "      <td>NaN</td>\n",
       "      <td>20:06:02</td>\n",
       "      <td>20</td>\n",
       "    </tr>\n",
       "    <tr>\n",
       "      <th>11811485</th>\n",
       "      <td>533</td>\n",
       "      <td>12500000</td>\n",
       "      <td>0</td>\n",
       "      <td>2021-02-07 20:31:02</td>\n",
       "      <td>NaN</td>\n",
       "      <td>20:31:02</td>\n",
       "      <td>20</td>\n",
       "    </tr>\n",
       "    <tr>\n",
       "      <th>11811514</th>\n",
       "      <td>544</td>\n",
       "      <td>12487782</td>\n",
       "      <td>0</td>\n",
       "      <td>2021-02-07 20:36:06</td>\n",
       "      <td>NaN</td>\n",
       "      <td>20:36:06</td>\n",
       "      <td>20</td>\n",
       "    </tr>\n",
       "    <tr>\n",
       "      <th>11811551</th>\n",
       "      <td>541</td>\n",
       "      <td>12475600</td>\n",
       "      <td>0</td>\n",
       "      <td>2021-02-07 20:44:29</td>\n",
       "      <td>NaN</td>\n",
       "      <td>20:44:29</td>\n",
       "      <td>20</td>\n",
       "    </tr>\n",
       "    <tr>\n",
       "      <th>...</th>\n",
       "      <td>...</td>\n",
       "      <td>...</td>\n",
       "      <td>...</td>\n",
       "      <td>...</td>\n",
       "      <td>...</td>\n",
       "      <td>...</td>\n",
       "      <td>...</td>\n",
       "    </tr>\n",
       "    <tr>\n",
       "      <th>12061099</th>\n",
       "      <td>541</td>\n",
       "      <td>12500000</td>\n",
       "      <td>0</td>\n",
       "      <td>2021-03-18 06:44:01</td>\n",
       "      <td>NaN</td>\n",
       "      <td>06:44:01</td>\n",
       "      <td>6</td>\n",
       "    </tr>\n",
       "    <tr>\n",
       "      <th>12061159</th>\n",
       "      <td>534</td>\n",
       "      <td>12487782</td>\n",
       "      <td>0</td>\n",
       "      <td>2021-03-18 06:54:33</td>\n",
       "      <td>NaN</td>\n",
       "      <td>06:54:33</td>\n",
       "      <td>6</td>\n",
       "    </tr>\n",
       "    <tr>\n",
       "      <th>12061208</th>\n",
       "      <td>540</td>\n",
       "      <td>12469457</td>\n",
       "      <td>0</td>\n",
       "      <td>2021-03-18 07:10:24</td>\n",
       "      <td>NaN</td>\n",
       "      <td>07:10:24</td>\n",
       "      <td>7</td>\n",
       "    </tr>\n",
       "    <tr>\n",
       "      <th>12061215</th>\n",
       "      <td>530</td>\n",
       "      <td>12512173</td>\n",
       "      <td>0</td>\n",
       "      <td>2021-03-18 07:11:05</td>\n",
       "      <td>NaN</td>\n",
       "      <td>07:11:05</td>\n",
       "      <td>7</td>\n",
       "    </tr>\n",
       "    <tr>\n",
       "      <th>12061270</th>\n",
       "      <td>540</td>\n",
       "      <td>12481621</td>\n",
       "      <td>0</td>\n",
       "      <td>2021-03-18 07:24:20</td>\n",
       "      <td>NaN</td>\n",
       "      <td>07:24:20</td>\n",
       "      <td>7</td>\n",
       "    </tr>\n",
       "  </tbody>\n",
       "</table>\n",
       "<p>4585 rows × 7 columns</p>\n",
       "</div>"
      ],
      "text/plain": [
       "              size  gas_limit  gas_used           timestamp  base_fee_per_gas  \\\n",
       "block_number                                                                    \n",
       "11811369       534   12499897         0 2021-02-07 20:05:25               NaN   \n",
       "11811375       541   12475476         0 2021-02-07 20:06:02               NaN   \n",
       "11811485       533   12500000         0 2021-02-07 20:31:02               NaN   \n",
       "11811514       544   12487782         0 2021-02-07 20:36:06               NaN   \n",
       "11811551       541   12475600         0 2021-02-07 20:44:29               NaN   \n",
       "...            ...        ...       ...                 ...               ...   \n",
       "12061099       541   12500000         0 2021-03-18 06:44:01               NaN   \n",
       "12061159       534   12487782         0 2021-03-18 06:54:33               NaN   \n",
       "12061208       540   12469457         0 2021-03-18 07:10:24               NaN   \n",
       "12061215       530   12512173         0 2021-03-18 07:11:05               NaN   \n",
       "12061270       540   12481621         0 2021-03-18 07:24:20               NaN   \n",
       "\n",
       "                  time  time_hours  \n",
       "block_number                        \n",
       "11811369      20:05:25          20  \n",
       "11811375      20:06:02          20  \n",
       "11811485      20:31:02          20  \n",
       "11811514      20:36:06          20  \n",
       "11811551      20:44:29          20  \n",
       "...                ...         ...  \n",
       "12061099      06:44:01           6  \n",
       "12061159      06:54:33           6  \n",
       "12061208      07:10:24           7  \n",
       "12061215      07:11:05           7  \n",
       "12061270      07:24:20           7  \n",
       "\n",
       "[4585 rows x 7 columns]"
      ]
     },
     "execution_count": 42,
     "metadata": {},
     "output_type": "execute_result"
    }
   ],
   "source": [
    "df_empty_blocks_pre"
   ]
  },
  {
   "cell_type": "code",
   "execution_count": 43,
   "metadata": {},
   "outputs": [
    {
     "data": {
      "image/png": "[encoded data removed]",
      "text/plain": [
       "<Figure size 864x576 with 1 Axes>"
      ]
     },
     "metadata": {
      "needs_background": "light"
     },
     "output_type": "display_data"
    }
   ],
   "source": [
    "plt.figure(figsize=(12,8))\n",
    "sns.histplot(df_empty_blocks_pre.time_hours, bins=120)\n",
    "\n",
    "plt.xlabel('Time')\n",
    "plt.ylabel('Frequency')\n",
    "plt.title('Visualize Time the Empty Blocks are added to the Blockchain (Pre EIP-1559)')\n",
    "\n",
    "plt.show;"
   ]
  },
  {
   "cell_type": "markdown",
   "metadata": {},
   "source": [
    "• Empty blocks are added to the blockchain the least is at 6 PM to 7 PM.\n",
    "• Empty blocks are added to the blockchain the most is at 3 PM to 4 PM."
   ]
  },
  {
   "cell_type": "markdown",
   "metadata": {},
   "source": [
    "#### The time the empty blocks are added to the blockchain the least and the most (6PM-7PM and 3PM-4PM) for this particular Pre EIP-1559 data literally the opposite of the chosen Post EIP-1559 data (6AM-7AM and 3AM-4AM)."
   ]
  },
  {
   "cell_type": "markdown",
   "metadata": {},
   "source": [
    "Before we go to the simulation of \"empty-due-to-demand\" empty blocks. Let's us plot the histogram of gas used in each block before and after EIP-1559 all together here."
   ]
  },
  {
   "cell_type": "code",
   "execution_count": 44,
   "metadata": {},
   "outputs": [
    {
     "data": {
      "image/png": "[encoded data removed]",
      "text/plain": [
       "<Figure size 864x576 with 1 Axes>"
      ]
     },
     "metadata": {
      "needs_background": "light"
     },
     "output_type": "display_data"
    }
   ],
   "source": [
    "plt.figure(figsize=(12,8))\n",
    "sns.histplot(df_blocks_pre.gas_used, bins=10)\n",
    "\n",
    "plt.xlabel('Gas Used')\n",
    "plt.ylabel('Frequency')\n",
    "plt.title('Histogram of Gas Used (Pre EIP-1559)')\n",
    "\n",
    "plt.show;"
   ]
  },
  {
   "cell_type": "code",
   "execution_count": 45,
   "metadata": {},
   "outputs": [
    {
     "data": {
      "image/png": "[encoded data removed]",
      "text/plain": [
       "<Figure size 864x576 with 1 Axes>"
      ]
     },
     "metadata": {
      "needs_background": "light"
     },
     "output_type": "display_data"
    }
   ],
   "source": [
    "plt.figure(figsize=(12,8))\n",
    "sns.histplot(df_blocks_post.gas_used, bins=50)\n",
    "\n",
    "plt.xlabel('Gas Used')\n",
    "plt.ylabel('Frequency')\n",
    "plt.title('Histogram of Gas Used')\n",
    "\n",
    "plt.show;"
   ]
  },
  {
   "cell_type": "markdown",
   "metadata": {},
   "source": [
    "With a larger post EIP-1559 data, this still align with the statement from Mojtaba's hackmd post (https://hackmd.io/@PIncentivus/EIP-3416):\n",
    "\n",
    "\"the target which is the full block size is achieved most of the time pre-fork. However as a result of the predicted oscillations, we observe a bimodal density post-fork where the target which is the half block size is rarely achieved.\""
   ]
  },
  {
   "cell_type": "markdown",
   "metadata": {},
   "source": [
    "Since we are visit Mojtaba's hackmd post, we verify that the following statement by Mojtaba still holds:\n",
    "\n",
    "\"for a large enough sequence of blocks, we would expect that difference between the sum of gas used and the sum of the gas target is going to grow.\""
   ]
  },
  {
   "cell_type": "code",
   "execution_count": 46,
   "metadata": {},
   "outputs": [],
   "source": [
    "new_df = df_blocks_post.cumsum()"
   ]
  },
  {
   "cell_type": "code",
   "execution_count": 47,
   "metadata": {},
   "outputs": [],
   "source": [
    "new_df.drop(new_df.columns[[2,3,4]], axis = 1, inplace = True)"
   ]
  },
  {
   "cell_type": "code",
   "execution_count": 48,
   "metadata": {},
   "outputs": [],
   "source": [
    "new_df['target_gas'] = new_df.gas_limit/2"
   ]
  },
  {
   "cell_type": "code",
   "execution_count": 49,
   "metadata": {},
   "outputs": [
    {
     "data": {
      "text/plain": [
       "<matplotlib.legend.Legend at 0x255ae078160>"
      ]
     },
     "execution_count": 49,
     "metadata": {},
     "output_type": "execute_result"
    },
    {
     "data": {
      "image/png": "[encoded data removed]",
      "text/plain": [
       "<Figure size 864x576 with 1 Axes>"
      ]
     },
     "metadata": {
      "needs_background": "light"
     },
     "output_type": "display_data"
    }
   ],
   "source": [
    "plt.figure(figsize=(12,8))\n",
    "\n",
    "new_df.gas_used.plot(label='cumulative gas used');\n",
    "new_df.target_gas.plot(label='cumulative target gas');\n",
    "\n",
    "plt.legend()"
   ]
  },
  {
   "cell_type": "code",
   "execution_count": 50,
   "metadata": {},
   "outputs": [
    {
     "data": {
      "image/png": "[encoded data removed]",
      "text/plain": [
       "<Figure size 864x576 with 1 Axes>"
      ]
     },
     "metadata": {
      "needs_background": "light"
     },
     "output_type": "display_data"
    }
   ],
   "source": [
    "plt.figure(figsize=(12,8))\n",
    "\n",
    "delta = new_df.gas_used-new_df.target_gas\n",
    "delta.plot()\n",
    "plt.ylabel('cumulative difference of gas used and target gas');"
   ]
  },
  {
   "cell_type": "markdown",
   "metadata": {},
   "source": [
    "# Simulation of \"empty-due-to-demand\" empty blocks and upper bound"
   ]
  },
  {
   "cell_type": "code",
   "execution_count": 51,
   "metadata": {},
   "outputs": [],
   "source": [
    "import math\n",
    "from collections import deque\n",
    "import random"
   ]
  },
  {
   "cell_type": "code",
   "execution_count": 52,
   "metadata": {},
   "outputs": [],
   "source": [
    "sq_current_oracle = 0\n",
    "eip_current_oracle = 0 \n",
    "\n",
    "sq_blocks = []\n",
    "eip_blocks = []\n",
    "\n",
    "sq_block_mins =  deque([])\n",
    "eip_block_mins = deque([])\n",
    "\n",
    "sq_gas_price_batches = []\n",
    "eip_gas_price_batches = []\n",
    "\n",
    "sq_wait_times =[]\n",
    "eip_wait_times=[]"
   ]
  },
  {
   "cell_type": "code",
   "execution_count": 53,
   "metadata": {},
   "outputs": [],
   "source": [
    "def create_mempool(txn_number, sq_df, eip_df, basefee, t=0):\n",
    "  \n",
    "    global sq_current_oracle, eip_current_oracle, sq_gas_price_batches, eip_gas_price_batches\n",
    "\n",
    "    values = np.random.gamma(20.72054, 1/17.49951, txn_number)\n",
    "    gas_limit = (np.random.pareto(1.42150, txn_number)+1)*21000  # pareto distribution with alpha 1.42150, beta 21000\n",
    "    \n",
    "    sq_gas_prices = [sq_current_oracle * v for v in values] \n",
    "    eip_gas_prices = [min(basefee + (eip_current_oracle * v), sq_current_oracle * v) for v in values]   \n",
    "    \n",
    "    eip_gas_price_batches += [eip_gas_prices]\n",
    "    sq_gas_price_batches += [sq_gas_prices]\n",
    "    \n",
    "    # store each updated mempool as a DataFrame\n",
    "\n",
    "    sq_df = sq_df.append(pd.DataFrame({\n",
    "        'gas price': sq_gas_prices,\n",
    "        'gas limit': gas_limit,\n",
    "        'time' : t,\n",
    "        'amount paid': [x * y for x,y in zip(sq_gas_prices,gas_limit)]\n",
    "        }), ignore_index=True)\n",
    "    \n",
    "\n",
    "    eip_df = eip_df.append(pd.DataFrame({\n",
    "        'gas price': eip_gas_prices,\n",
    "        'gas limit': gas_limit,\n",
    "        'time': t,\n",
    "        'amount paid' : [x * y for x,y in zip(eip_gas_prices,gas_limit)]\n",
    "        }), ignore_index=True)\n",
    "    \n",
    "    # sort transactions in each mempool by gas price\n",
    "    \n",
    "    sq_df = sq_df.sort_values(by=['gas price'], ascending=False).reset_index(drop=True)\n",
    "    eip_df = eip_df.sort_values(by=['gas price'], ascending=False).reset_index(drop=True)\n",
    "    \n",
    "    return sq_df, eip_df"
   ]
  },
  {
   "cell_type": "code",
   "execution_count": 54,
   "metadata": {},
   "outputs": [],
   "source": [
    "def get_basefee(b, g): \n",
    "    \n",
    "    return b*(1+(1/8)*((g-15000000)/15000000))\n",
    "\n",
    "def get_oracle():\n",
    "    \n",
    "    global sq_current_oracle, sq_block_mins, sq_blocks, eip_block_mins, eip_current_oracle, eip_blocks\n",
    "    \n",
    "    update_oracle(sq_current_oracle, sq_block_mins, sq_blocks)\n",
    "    update_oracle(eip_current_oracle, eip_block_mins, eip_blocks)\n",
    "\n",
    "def update_oracle(current_oracle, block_minimums, blocks):\n",
    "    recent_gp = blocks[-1][-1][1]\n",
    "    block_minimums.popleft()\n",
    "    block_minimums.append(recent_gp)\n",
    "\n",
    "    sorted_block_minimums = sorted(block_minimums)\n",
    "  \n",
    "    current_oracle = sorted_block_minimums[59]\n",
    "\n",
    "def fill_block(mempool, basefee, time):\n",
    "    global eip_wait_times, sq_wait_times\n",
    "    \n",
    "    block = []\n",
    "    block_size = 0\n",
    "    block_limit = 30000000 if basefee > 0 else 15000000\n",
    "    \n",
    "    for i in range(len(mempool)):\n",
    "        txn = mempool.iloc[i, :].tolist()\n",
    "        if block_size + txn[1] > block_limit or txn[0] < basefee:\n",
    "            break\n",
    "        else:\n",
    "            block.append(txn)\n",
    "            block_size += txn[1]\n",
    "    \n",
    "    block_wait_times = [time - txn[2] for txn in block]\n",
    "    if basefee:\n",
    "        eip_wait_times.append(block_wait_times)\n",
    "    else:\n",
    "        sq_wait_times.append(block_wait_times)\n",
    "    \n",
    "    #remove verified txns from mempool\n",
    "    mempool = mempool.iloc[i+1:,:]    \n",
    "    return block, mempool, block_size"
   ]
  },
  {
   "cell_type": "code",
   "execution_count": 55,
   "metadata": {},
   "outputs": [],
   "source": [
    "def simulate(n):\n",
    "    \n",
    "    #initialize empty dataframes\n",
    "    df1 = pd.DataFrame() \n",
    "    df2 = pd.DataFrame() \n",
    "    \n",
    "    sq_block_data = pd.DataFrame()\n",
    "    eip_block_data = pd.DataFrame()\n",
    "   \n",
    "    sq_mempool_data = pd.DataFrame()\n",
    "    eip_mempool_data = pd.DataFrame()\n",
    "    \n",
    "  \n",
    "    sq_mempools = []\n",
    "    eip_mempools = []\n",
    "    eip_mempools_bf = []\n",
    "    demands = []\n",
    "    \n",
    "    global sq_block_mins, eip_block_mins, sq_blocks, sq_current_oracle, eip_current_oracle, eip_blocks, eip_wait_times, sq_wait_times\n",
    "    \n",
    "    #read in data to initialize oracle\n",
    "    data = pd.read_csv('block_data.csv')\n",
    "    minGasdf = data[['gasLimit','minGasPrice']].values \n",
    "    for d in minGasdf:\n",
    "        if len(eip_block_mins) == 100:\n",
    "            break\n",
    "        if d[1] == 'None':\n",
    "            continue\n",
    "        sq_block_mins.append(int(d[1]) / 10**9)\n",
    "        eip_block_mins.append(int(d[1]) / 10**9)\n",
    "    \n",
    "    basefee = eip_block_mins[-1]\n",
    "    basefees = [basefee]\n",
    "    \n",
    "    sorted_sq_block_mins = sorted(sq_block_mins)\n",
    "    sorted_eip_block_mins = sorted([x - basefee if x >= basefee else 0 for x in eip_block_mins])\n",
    "    \n",
    "    #set initial oracles\n",
    "    sq_current_oracle = sorted_sq_block_mins[59]\n",
    "    eip_current_oracle = sorted_eip_block_mins[59]\n",
    "    \n",
    "    #initialize mempools with 4096 txns\n",
    "    sq_mempool, eip_mempool = create_mempool(4096, df1, df2, basefee)\n",
    "    \n",
    "    #iterate over n blocks\n",
    "    for i in range(n):\n",
    "        \n",
    "        #fill blocks from mempools\n",
    "        new_sq_block, new_sq_mempool, sq_blocksize = fill_block(sq_mempool, 0, i)\n",
    "        new_eip_block, new_eip_mempool, eip_blocksize = fill_block(sq_mempool, basefee, i)\n",
    "        \n",
    "        sq_blocks += [new_sq_block]\n",
    "        eip_blocks += [new_eip_block]\n",
    "        \n",
    "        get_oracle()\n",
    "        \n",
    "        #update mempools\n",
    "        sq_mempool = new_sq_mempool\n",
    "        eip_mempool = new_eip_mempool\n",
    "        \n",
    "        basefee = get_basefee(basefee, eip_blocksize)\n",
    "        basefees += [basefee]\n",
    "        \n",
    "        sq_mempools += [sq_mempool]\n",
    "        eip_mempools += [eip_mempool]\n",
    "        eip_mempools_bf += [eip_mempool[eip_mempool['gas price'] >= basefee]]\n",
    "        \n",
    "        #add 200 new txns before next iteration\n",
    "        new_demand = random.randint(50, 400)\n",
    "        sq_mempool, eip_mempool = create_mempool(new_demand, sq_mempool, eip_mempool, basefee, i+1)\n",
    "        \n",
    "        demands += [new_demand]\n",
    "        \n",
    "        print(\"progress: \", i+1, end = '\\r')\n",
    "    return basefees, eip_blocks, sq_blocks, eip_mempools, sq_mempools, eip_mempools_bf, demands, eip_wait_times, sq_wait_times"
   ]
  },
  {
   "cell_type": "code",
   "execution_count": 56,
   "metadata": {},
   "outputs": [
    {
     "name": "stdout",
     "output_type": "stream",
     "text": [
      "progress:  5001 19 33 68 88 94 103 107 113 129 143 148 153 157 210 234 249 274 283 298 313 332 352 366 397 425 429 437 442 452 482 487 511 521 525 540 577 614 637 652 657 687 704 710 725746 754 759 770 787 814 833 852 856 862 870 876 896 905 924 928 938 978 995 1003 1010 1030 1033 1052 1059 1078 1082 1096 1115 1127 1130 1144 1165 1183 1187 1192 1205 1210 1219 1232 1241 12451295 1305 1315 1321 1335 1340 1344 1388 1392 1397 1409 1437 1448 1477 1482 1517 1527 1532 1537 1558 1562 1565 1569 1572 1583 1586 1588 1606 1619 1623 1637 1646 1650 1667 1671 1676 1680 1701 1723 1731 1740 1748 1752 1757 1766 1784 1789 1800 1807 1823 1828 1833 1843 1857 1870 1885 1912 1933 1942 1946 1950 1954 1963 1982 1999 2012 2016 2021 2025 2033 2050 2059 2063 2072 2129 2151 2156 2175 2179 2202 2211 2215 2229 2244 2257 2261 2275 2280 2285 2295 2304 2313 2322 2326 2339 2389 2400 2405 2409 2424 2428 2432 2436 2440 2455 2474 2490 2503 2508 2518 2523 2528 2538 2542 2552 2557 2561 2566 2577 2614 2630 2663 2668 2681 2689 2698 2707 2721 2726 2731 27582766 2780 2794 2797 2806 2828 2842 2851 2869 2878 2894 2912 2936 2942 2982 2986 3000 3026 3031 3036 3074 3091 3095 3100 3117 3122 3127 3132 3145 3149 3153 3157 3162 3166 3178 3191 3207 3213 3235 3258 3263 3267 3276 3285 3289 3292 3296 3302 3310 3335 3341 33453360 3365 3375 3410 3421 3426 3429 3433 3446 3455 3460 3473 3484 3488 3494 3500 3521 3530 3534 3539 3548 3552 3557 3596 3605 3618 3622 3628 3633 3639 3658 3666 3674 3680 3693 3714 3718 3740 3749 3764 3769 3777 3790 3796 3819 3828 3833 3855 3860 3882 3887 3892 3895 3899 3908 3923 3937 3946 3951 3960 3964 3979 3984 3989 4040 4043 4060 4069 4095 4125 4137 4147 4168 41934197 4208 4213 4218 4253 4257 4261 4271 4290 4296 4299 4317 4326 4334 4357 4363 4383 4387 4400 4425 4459 4480 4502 4507 4520 4524 4537 4541 4546 4555 4597 4614 4619 4623 4632 4641 4655 4659 4664 4669 4699 4709 4723 4756 4766 4780 4784 4799 4813 4818 4823 4838 4842 4860 4865 4878 4887 4911 4924 4930 4943 4960 5000\r"
     ]
    }
   ],
   "source": [
    "s = simulate(5001)"
   ]
  },
  {
   "cell_type": "code",
   "execution_count": 57,
   "metadata": {},
   "outputs": [],
   "source": [
    "eip_mempools_bf = s[5]"
   ]
  },
  {
   "cell_type": "markdown",
   "metadata": {},
   "source": [
    "# Mempool"
   ]
  },
  {
   "cell_type": "code",
   "execution_count": 59,
   "metadata": {},
   "outputs": [
    {
     "data": {
      "text/plain": [
       "[<matplotlib.lines.Line2D at 0x255e3a3cb80>]"
      ]
     },
     "execution_count": 59,
     "metadata": {},
     "output_type": "execute_result"
    },
    {
     "data": {
      "image/png": "[encoded data removed]",
      "text/plain": [
       "<Figure size 432x288 with 1 Axes>"
      ]
     },
     "metadata": {
      "needs_background": "light"
     },
     "output_type": "display_data"
    }
   ],
   "source": [
    "eip_mempool_txs = [len(x) for x in eip_mempools_bf]\n",
    "\n",
    "plt.title(\"Mempool Sizes\")\n",
    "plt.xlabel(\"Block Number\")\n",
    "plt.ylabel(\"# of Txns\")\n",
    "plt.plot(eip_mempool_txs)"
   ]
  },
  {
   "cell_type": "code",
   "execution_count": 79,
   "metadata": {},
   "outputs": [
    {
     "data": {
      "text/plain": [
       "[<matplotlib.lines.Line2D at 0x255e4bac790>]"
      ]
     },
     "execution_count": 79,
     "metadata": {},
     "output_type": "execute_result"
    },
    {
     "data": {
      "image/png": "[encoded data removed]",
      "text/plain": [
       "<Figure size 432x288 with 1 Axes>"
      ]
     },
     "metadata": {
      "needs_background": "light"
     },
     "output_type": "display_data"
    }
   ],
   "source": [
    "eip_mempool_gas_limit = [sum(x[\"gas limit\"]) for x in eip_mempools_bf]\n",
    "\n",
    "plt.title(\"Mempool Sizes\")\n",
    "plt.xlabel(\"Block Number\")\n",
    "plt.ylabel(\"Total Gas\")\n",
    "plt.plot(eip_mempool_txs)"
   ]
  },
  {
   "cell_type": "code",
   "execution_count": 81,
   "metadata": {},
   "outputs": [
    {
     "data": {
      "text/plain": [
       "Text(0.5, 1.0, 'Transaction')"
      ]
     },
     "execution_count": 81,
     "metadata": {},
     "output_type": "execute_result"
    },
    {
     "data": {
      "image/png": "[encoded data removed]",
      "text/plain": [
       "<Figure size 864x576 with 1 Axes>"
      ]
     },
     "metadata": {
      "needs_background": "light"
     },
     "output_type": "display_data"
    }
   ],
   "source": [
    "eip_mempool_txs = [len(x) for x in eip_mempools_bf]\n",
    "\n",
    "plt.figure(figsize=(12,8))\n",
    "sns.histplot(eip_mempool_txs, bins=120)\n",
    "\n",
    "plt.xlabel('txn')\n",
    "plt.ylabel('Frequency')\n",
    "plt.title('Transaction')"
   ]
  },
  {
   "cell_type": "code",
   "execution_count": 74,
   "metadata": {},
   "outputs": [],
   "source": [
    "df_block_sim = pd.DataFrame(eip_mempool_txs)"
   ]
  },
  {
   "cell_type": "code",
   "execution_count": 75,
   "metadata": {},
   "outputs": [],
   "source": [
    "df_block_sim = df_block_sim.rename(columns={0: \"transaction_count\"})"
   ]
  },
  {
   "cell_type": "code",
   "execution_count": 77,
   "metadata": {},
   "outputs": [],
   "source": [
    "df_sim_empty_block = df_block_sim[df_block_sim['transaction_count'].between(0, 0)]"
   ]
  },
  {
   "cell_type": "markdown",
   "metadata": {},
   "source": [
    "Load in the real post EIP-1559 data (5000 of them)."
   ]
  },
  {
   "cell_type": "code",
   "execution_count": 82,
   "metadata": {},
   "outputs": [],
   "source": [
    "df_real_post = pd.read_csv(\"bxs_12965_12967.csv\")"
   ]
  },
  {
   "cell_type": "code",
   "execution_count": 84,
   "metadata": {},
   "outputs": [],
   "source": [
    "df_real_post.set_index(\"block_number\", inplace=True)"
   ]
  },
  {
   "cell_type": "code",
   "execution_count": 86,
   "metadata": {},
   "outputs": [],
   "source": [
    "df_real_post_empty_block = df_real_post[df_real_post['gas_used'].between(0, 0)]"
   ]
  },
  {
   "cell_type": "code",
   "execution_count": 88,
   "metadata": {},
   "outputs": [
    {
     "data": {
      "text/plain": [
       "59"
      ]
     },
     "execution_count": 88,
     "metadata": {},
     "output_type": "execute_result"
    }
   ],
   "source": [
    "len(df_real_post_empty_block)"
   ]
  },
  {
   "cell_type": "markdown",
   "metadata": {},
   "source": [
    "Let's plot the real and the simulate empty blocks together."
   ]
  },
  {
   "cell_type": "code",
   "execution_count": 95,
   "metadata": {},
   "outputs": [
    {
     "data": {
      "image/png": "[encoded data removed]",
      "text/plain": [
       "<Figure size 864x576 with 1 Axes>"
      ]
     },
     "metadata": {
      "needs_background": "light"
     },
     "output_type": "display_data"
    }
   ],
   "source": [
    "plt.figure(figsize=(12,8))\n",
    "sns.histplot(df_sim_empty_block.transaction_count, bins=120, color='navy', label=\"simulate\")\n",
    "sns.histplot(df_real_post_empty_block.gas_used, bins=120, color='purple', label=\"real\")\n",
    "\n",
    "plt.xlabel('gas used')\n",
    "plt.ylabel('Frequency')\n",
    "plt.title('Visualize empty blocks (Real vs Simulate)')\n",
    "\n",
    "plt.legend()\n",
    "plt.show();"
   ]
  },
  {
   "cell_type": "markdown",
   "metadata": {},
   "source": [
    "#### Upper Bound"
   ]
  },
  {
   "cell_type": "code",
   "execution_count": 96,
   "metadata": {},
   "outputs": [],
   "source": [
    "upper_bound_empty_block = abs(len(df_sim_empty_block.transaction_count) - len(df_real_post_empty_block.gas_used))"
   ]
  },
  {
   "cell_type": "code",
   "execution_count": 97,
   "metadata": {},
   "outputs": [
    {
     "data": {
      "text/plain": [
       "2611"
      ]
     },
     "execution_count": 97,
     "metadata": {},
     "output_type": "execute_result"
    }
   ],
   "source": [
    "upper_bound_empty_block"
   ]
  },
  {
   "cell_type": "code",
   "execution_count": null,
   "metadata": {},
   "outputs": [],
   "source": []
  }
 ],
 "metadata": {
  "kernelspec": {
   "display_name": "Python 3",
   "language": "python",
   "name": "python3"
  },
  "language_info": {
   "codemirror_mode": {
    "name": "ipython",
    "version": 3
   },
   "file_extension": ".py",
   "mimetype": "text/x-python",
   "name": "python",
   "nbconvert_exporter": "python",
   "pygments_lexer": "ipython3",
   "version": "3.8.5"
  }
 },
 "nbformat": 4,
 "nbformat_minor": 4
}

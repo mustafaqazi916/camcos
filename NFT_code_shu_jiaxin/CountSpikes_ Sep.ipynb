{
 "cells": [
  {
   "cell_type": "markdown",
   "metadata": {},
   "source": [
    "## Count Spikes\n",
    "- the code counts how many spikes in a day "
   ]
  },
  {
   "cell_type": "code",
   "execution_count": 1,
   "metadata": {},
   "outputs": [
    {
     "data": {
      "text/html": [
       "<div>\n",
       "<style scoped>\n",
       "    .dataframe tbody tr th:only-of-type {\n",
       "        vertical-align: middle;\n",
       "    }\n",
       "\n",
       "    .dataframe tbody tr th {\n",
       "        vertical-align: top;\n",
       "    }\n",
       "\n",
       "    .dataframe thead th {\n",
       "        text-align: right;\n",
       "    }\n",
       "</style>\n",
       "<table border=\"1\" class=\"dataframe\">\n",
       "  <thead>\n",
       "    <tr style=\"text-align: right;\">\n",
       "      <th></th>\n",
       "      <th>block_number</th>\n",
       "      <th>block_date</th>\n",
       "      <th>block_hour</th>\n",
       "      <th>time</th>\n",
       "      <th>base_fee</th>\n",
       "    </tr>\n",
       "  </thead>\n",
       "  <tbody>\n",
       "    <tr>\n",
       "      <th>0</th>\n",
       "      <td>13136427</td>\n",
       "      <td>2021-09-01</td>\n",
       "      <td>0</td>\n",
       "      <td>00:00:12</td>\n",
       "      <td>124.202762</td>\n",
       "    </tr>\n",
       "    <tr>\n",
       "      <th>1</th>\n",
       "      <td>13136428</td>\n",
       "      <td>2021-09-01</td>\n",
       "      <td>0</td>\n",
       "      <td>00:00:40</td>\n",
       "      <td>139.713515</td>\n",
       "    </tr>\n",
       "    <tr>\n",
       "      <th>2</th>\n",
       "      <td>13136429</td>\n",
       "      <td>2021-09-01</td>\n",
       "      <td>0</td>\n",
       "      <td>00:00:44</td>\n",
       "      <td>130.857527</td>\n",
       "    </tr>\n",
       "    <tr>\n",
       "      <th>3</th>\n",
       "      <td>13136430</td>\n",
       "      <td>2021-09-01</td>\n",
       "      <td>0</td>\n",
       "      <td>00:00:46</td>\n",
       "      <td>115.769453</td>\n",
       "    </tr>\n",
       "    <tr>\n",
       "      <th>4</th>\n",
       "      <td>13136431</td>\n",
       "      <td>2021-09-01</td>\n",
       "      <td>0</td>\n",
       "      <td>00:00:48</td>\n",
       "      <td>108.952305</td>\n",
       "    </tr>\n",
       "  </tbody>\n",
       "</table>\n",
       "</div>"
      ],
      "text/plain": [
       "   block_number  block_date  block_hour      time    base_fee\n",
       "0      13136427  2021-09-01           0  00:00:12  124.202762\n",
       "1      13136428  2021-09-01           0  00:00:40  139.713515\n",
       "2      13136429  2021-09-01           0  00:00:44  130.857527\n",
       "3      13136430  2021-09-01           0  00:00:46  115.769453\n",
       "4      13136431  2021-09-01           0  00:00:48  108.952305"
      ]
     },
     "execution_count": 1,
     "metadata": {},
     "output_type": "execute_result"
    }
   ],
   "source": [
    "import numpy as np\n",
    "import pandas as pd\n",
    "df_sep = pd.read_csv('Sep_basefee.csv')\n",
    "df_sep.head()"
   ]
  },
  {
   "cell_type": "code",
   "execution_count": 2,
   "metadata": {},
   "outputs": [
    {
     "data": {
      "text/plain": [
       "61"
      ]
     },
     "execution_count": 2,
     "metadata": {},
     "output_type": "execute_result"
    }
   ],
   "source": [
    "## define a peak as a spike to be 2 sd from the mean, \n",
    "## within a spike before drop back to the mean \n",
    "\n",
    "mean = np.mean(df_sep.base_fee)  # 86.92\n",
    "sd = np.std(df_sep.base_fee)   # 81.64\n",
    "peak_value = mean + 2*sd\n",
    "# peak_value  # 250\n",
    "count = 0 \n",
    "within_peak = False \n",
    "for i in df_sep.base_fee.values:\n",
    "    if i > peak_value: \n",
    "        within_peak = True    \n",
    "    elif i < mean:            \n",
    "        if within_peak:\n",
    "            count+=1\n",
    "        within_peak = False    \n",
    "count  "
   ]
  }
 ],
 "metadata": {
  "kernelspec": {
   "display_name": "Python 3",
   "language": "python",
   "name": "python3"
  },
  "language_info": {
   "codemirror_mode": {
    "name": "ipython",
    "version": 3
   },
   "file_extension": ".py",
   "mimetype": "text/x-python",
   "name": "python",
   "nbconvert_exporter": "python",
   "pygments_lexer": "ipython3",
   "version": "3.8.5"
  }
 },
 "nbformat": 4,
 "nbformat_minor": 4
}
